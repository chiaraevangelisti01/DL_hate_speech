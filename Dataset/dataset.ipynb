{
 "cells": [
  {
   "cell_type": "code",
   "execution_count": 1,
   "metadata": {},
   "outputs": [],
   "source": [
    "from datasets import load_dataset, Dataset, DatasetDict\n",
    "from tqdm import tqdm\n",
    "import pandas as pd\n",
    "import matplotlib.pyplot as plt\n",
    "import numpy as np\n",
    "import emoji\n",
    "from imblearn.under_sampling import RandomUnderSampler\n",
    "from imblearn.over_sampling import RandomOverSampler"
   ]
  },
  {
   "cell_type": "markdown",
   "metadata": {},
   "source": [
    "## Create dataset"
   ]
  },
  {
   "cell_type": "code",
   "execution_count": 2,
   "metadata": {},
   "outputs": [
    {
     "name": "stderr",
     "output_type": "stream",
     "text": [
      "Found cached dataset parquet (C:/Users/aurel/.cache/huggingface/datasets/SALT-NLP___parquet/SALT-NLP--silent_signals-0fa73465b941e951/0.0.0/2a3b91fbd88a2c90d1dbbb32b460cf621d31bd5b05b934492fdef7d8d6f236ec)\n"
     ]
    },
    {
     "data": {
      "application/vnd.jupyter.widget-view+json": {
       "model_id": "e785481bf70b4fac87d84c7236fdc8bd",
       "version_major": 2,
       "version_minor": 0
      },
      "text/plain": [
       "  0%|          | 0/1 [00:00<?, ?it/s]"
      ]
     },
     "metadata": {},
     "output_type": "display_data"
    },
    {
     "name": "stderr",
     "output_type": "stream",
     "text": [
      "Found cached dataset parquet (C:/Users/aurel/.cache/huggingface/datasets/SALT-NLP___parquet/SALT-NLP--informal_potential_dogwhistles-ab66d05d7c9afd8d/0.0.0/2a3b91fbd88a2c90d1dbbb32b460cf621d31bd5b05b934492fdef7d8d6f236ec)\n"
     ]
    },
    {
     "data": {
      "application/vnd.jupyter.widget-view+json": {
       "model_id": "50eb134068374192b971ec89711d98c0",
       "version_major": 2,
       "version_minor": 0
      },
      "text/plain": [
       "  0%|          | 0/1 [00:00<?, ?it/s]"
      ]
     },
     "metadata": {},
     "output_type": "display_data"
    },
    {
     "name": "stderr",
     "output_type": "stream",
     "text": [
      "Found cached dataset parquet (C:/Users/aurel/.cache/huggingface/datasets/SALT-NLP___parquet/SALT-NLP--formal_potential_dogwhistles-a57188fbcad642b3/0.0.0/2a3b91fbd88a2c90d1dbbb32b460cf621d31bd5b05b934492fdef7d8d6f236ec)\n"
     ]
    },
    {
     "data": {
      "application/vnd.jupyter.widget-view+json": {
       "model_id": "d34f2c7bed844f25bbe2be1658453324",
       "version_major": 2,
       "version_minor": 0
      },
      "text/plain": [
       "  0%|          | 0/1 [00:00<?, ?it/s]"
      ]
     },
     "metadata": {},
     "output_type": "display_data"
    }
   ],
   "source": [
    "ds_dogwhistle = load_dataset(\"SALT-NLP/silent_signals\")\n",
    "ds_potential_reddit = load_dataset(\"SALT-NLP/informal_potential_dogwhistles\")\n",
    "ds_potential_congress = load_dataset(\"SALT-NLP/formal_potential_dogwhistles\")"
   ]
  },
  {
   "cell_type": "code",
   "execution_count": 3,
   "metadata": {},
   "outputs": [
    {
     "name": "stdout",
     "output_type": "stream",
     "text": [
      "DatasetDict({\n",
      "    train: Dataset({\n",
      "        features: ['dog_whistle', 'dog_whistle_root', 'ingroup', 'content', 'date', 'speaker', 'chamber', 'subreddit', 'source', 'definition', 'type', 'party'],\n",
      "        num_rows: 16258\n",
      "    })\n",
      "})\n",
      "DatasetDict({\n",
      "    train: Dataset({\n",
      "        features: ['content', 'subreddit', 'dog_whistle', 'date', 'ingroup', 'source'],\n",
      "        num_rows: 6026919\n",
      "    })\n",
      "})\n",
      "DatasetDict({\n",
      "    train: Dataset({\n",
      "        features: ['date', 'speaker', 'chamber', 'reference', 'source', 'party', 'content', 'dog_whistle', 'ingroup'],\n",
      "        num_rows: 1096682\n",
      "    })\n",
      "})\n"
     ]
    }
   ],
   "source": [
    "print(ds_dogwhistle)\n",
    "print(ds_potential_reddit)\n",
    "print(ds_potential_congress)"
   ]
  },
  {
   "cell_type": "code",
   "execution_count": 4,
   "metadata": {},
   "outputs": [],
   "source": [
    "df_dogwhistle = ds_dogwhistle['train'].to_pandas()\n",
    "df_potential_reddit = ds_potential_reddit['train'].to_pandas()\n",
    "df_potential_congress = ds_potential_congress['train'].to_pandas()"
   ]
  },
  {
   "cell_type": "code",
   "execution_count": 5,
   "metadata": {},
   "outputs": [],
   "source": [
    "index_dogwhistle = df_dogwhistle.set_index('content').index\n",
    "index_reddit = df_potential_reddit.set_index('content').index\n",
    "index_congress = df_potential_congress.set_index('content').index"
   ]
  },
  {
   "cell_type": "code",
   "execution_count": 6,
   "metadata": {},
   "outputs": [
    {
     "data": {
      "text/html": [
       "<div>\n",
       "<style scoped>\n",
       "    .dataframe tbody tr th:only-of-type {\n",
       "        vertical-align: middle;\n",
       "    }\n",
       "\n",
       "    .dataframe tbody tr th {\n",
       "        vertical-align: top;\n",
       "    }\n",
       "\n",
       "    .dataframe thead th {\n",
       "        text-align: right;\n",
       "    }\n",
       "</style>\n",
       "<table border=\"1\" class=\"dataframe\">\n",
       "  <thead>\n",
       "    <tr style=\"text-align: right;\">\n",
       "      <th></th>\n",
       "      <th>content</th>\n",
       "      <th>subreddit</th>\n",
       "      <th>dog_whistle</th>\n",
       "      <th>date</th>\n",
       "      <th>ingroup</th>\n",
       "      <th>source</th>\n",
       "    </tr>\n",
       "  </thead>\n",
       "  <tbody>\n",
       "    <tr>\n",
       "      <th>740</th>\n",
       "      <td>Spoiler: They don't care. That's why she acts ...</td>\n",
       "      <td>BlackPeopleTwitter</td>\n",
       "      <td>absent father</td>\n",
       "      <td>10/22/2015</td>\n",
       "      <td>racist</td>\n",
       "      <td>Pushift 2005-2022</td>\n",
       "    </tr>\n",
       "    <tr>\n",
       "      <th>1676</th>\n",
       "      <td>Honestly, me too. Things were okay until WLM c...</td>\n",
       "      <td>BlackPeopleTwitter</td>\n",
       "      <td>WLM</td>\n",
       "      <td>08/22/2016</td>\n",
       "      <td>racist</td>\n",
       "      <td>Pushift 2005-2022</td>\n",
       "    </tr>\n",
       "    <tr>\n",
       "      <th>3408</th>\n",
       "      <td>I don't get the joke, black people are way les...</td>\n",
       "      <td>BlackPeopleTwitter</td>\n",
       "      <td>gang banger</td>\n",
       "      <td>01/06/2016</td>\n",
       "      <td>racist</td>\n",
       "      <td>Pushift 2005-2022</td>\n",
       "    </tr>\n",
       "    <tr>\n",
       "      <th>3918</th>\n",
       "      <td>I was born white but really I was born black b...</td>\n",
       "      <td>BlackPeopleTwitter</td>\n",
       "      <td>identify as</td>\n",
       "      <td>07/17/2015</td>\n",
       "      <td>transphobic</td>\n",
       "      <td>Pushift 2005-2022</td>\n",
       "    </tr>\n",
       "    <tr>\n",
       "      <th>4999</th>\n",
       "      <td>She said the parent trap. Bruce now Caitlyn is...</td>\n",
       "      <td>BlackPeopleTwitter</td>\n",
       "      <td>biological man</td>\n",
       "      <td>08/11/2015</td>\n",
       "      <td>transphobic</td>\n",
       "      <td>Pushift 2005-2022</td>\n",
       "    </tr>\n",
       "    <tr>\n",
       "      <th>6616</th>\n",
       "      <td>Some are genuine racists, some are trolls who ...</td>\n",
       "      <td>BlackPeopleTwitter</td>\n",
       "      <td>special interests</td>\n",
       "      <td>07/13/2016</td>\n",
       "      <td>antisemitic</td>\n",
       "      <td>Pushift 2005-2022</td>\n",
       "    </tr>\n",
       "    <tr>\n",
       "      <th>14182</th>\n",
       "      <td>Isn't Ciara a mom to a couple kids already? We...</td>\n",
       "      <td>BlackPeopleTwitter</td>\n",
       "      <td>baby mama</td>\n",
       "      <td>11/20/2015</td>\n",
       "      <td>racist</td>\n",
       "      <td>Pushift 2005-2022</td>\n",
       "    </tr>\n",
       "    <tr>\n",
       "      <th>14297</th>\n",
       "      <td>When you deliberately interrupt and harass oth...</td>\n",
       "      <td>BlackPeopleTwitter</td>\n",
       "      <td>#alllivesmatter</td>\n",
       "      <td>11/24/2015</td>\n",
       "      <td>racist</td>\n",
       "      <td>Pushift 2005-2022</td>\n",
       "    </tr>\n",
       "    <tr>\n",
       "      <th>14341</th>\n",
       "      <td>And if she puts nacho cheese out of the chip s...</td>\n",
       "      <td>BlackPeopleTwitter</td>\n",
       "      <td>baby daddy</td>\n",
       "      <td>01/13/2016</td>\n",
       "      <td>racist</td>\n",
       "      <td>Pushift 2005-2022</td>\n",
       "    </tr>\n",
       "    <tr>\n",
       "      <th>14716</th>\n",
       "      <td>The Mayor of Baltimore said it herself that ri...</td>\n",
       "      <td>BlackPeopleTwitter</td>\n",
       "      <td>Baltimore</td>\n",
       "      <td>07/07/2016</td>\n",
       "      <td>racist</td>\n",
       "      <td>Pushift 2005-2022</td>\n",
       "    </tr>\n",
       "  </tbody>\n",
       "</table>\n",
       "</div>"
      ],
      "text/plain": [
       "                                                 content           subreddit  \\\n",
       "740    Spoiler: They don't care. That's why she acts ...  BlackPeopleTwitter   \n",
       "1676   Honestly, me too. Things were okay until WLM c...  BlackPeopleTwitter   \n",
       "3408   I don't get the joke, black people are way les...  BlackPeopleTwitter   \n",
       "3918   I was born white but really I was born black b...  BlackPeopleTwitter   \n",
       "4999   She said the parent trap. Bruce now Caitlyn is...  BlackPeopleTwitter   \n",
       "6616   Some are genuine racists, some are trolls who ...  BlackPeopleTwitter   \n",
       "14182  Isn't Ciara a mom to a couple kids already? We...  BlackPeopleTwitter   \n",
       "14297  When you deliberately interrupt and harass oth...  BlackPeopleTwitter   \n",
       "14341  And if she puts nacho cheese out of the chip s...  BlackPeopleTwitter   \n",
       "14716  The Mayor of Baltimore said it herself that ri...  BlackPeopleTwitter   \n",
       "\n",
       "             dog_whistle        date      ingroup             source  \n",
       "740        absent father  10/22/2015       racist  Pushift 2005-2022  \n",
       "1676                 WLM  08/22/2016       racist  Pushift 2005-2022  \n",
       "3408         gang banger  01/06/2016       racist  Pushift 2005-2022  \n",
       "3918         identify as  07/17/2015  transphobic  Pushift 2005-2022  \n",
       "4999      biological man  08/11/2015  transphobic  Pushift 2005-2022  \n",
       "6616   special interests  07/13/2016  antisemitic  Pushift 2005-2022  \n",
       "14182          baby mama  11/20/2015       racist  Pushift 2005-2022  \n",
       "14297    #alllivesmatter  11/24/2015       racist  Pushift 2005-2022  \n",
       "14341         baby daddy  01/13/2016       racist  Pushift 2005-2022  \n",
       "14716          Baltimore  07/07/2016       racist  Pushift 2005-2022  "
      ]
     },
     "execution_count": 6,
     "metadata": {},
     "output_type": "execute_result"
    }
   ],
   "source": [
    "df_potential_reddit[index_reddit.isin(index_dogwhistle)].head(10)"
   ]
  },
  {
   "cell_type": "code",
   "execution_count": 7,
   "metadata": {},
   "outputs": [
    {
     "data": {
      "text/plain": [
       "[\"Spoiler: They don't care. That's why she acts out, posts dumb sheeeut. She wants the attention, statistically from an absent father.\",\n",
       " \"Honestly, me too. Things were okay until WLM came along and started stirring the pot for no reason. You can't just expect equality to get handed to you. You have to earn it. I was on the fence, but now I'm a racist.\",\n",
       " \"I don't get the joke, black people are way less diverse. Your either a gang banger or your a white person.\",\n",
       " 'I was born white but really I was born black because I was just born that way. Really though, can I identify as a black man or is society just not ready for my 12 in dong?',\n",
       " \"She said the parent trap. Bruce now Caitlyn is a trap because it's a biological man who looks like a female.\",\n",
       " 'Some are genuine racists, some are trolls who have nothing better to do but get people pissed off and some like myself are sick of globalists and establishment Shills who are bought and paid for by special interests ruining the country.',\n",
       " \"Isn't Ciara a mom to a couple kids already? We're supposed to believe Russell is 'saving himself' or whatever for someone else's baby mama? Naw.\",\n",
       " 'When you deliberately interrupt and harass other people, and antagonize them on racial grounds, holding up #blacklivesmatter while rejecting #alllivesmatter stops being metaphorical, and starts being literal.',\n",
       " \"And if she puts nacho cheese out of the chip station directly in the bag in the store before buying them just run cause she's destined for 3+.baby daddys\",\n",
       " 'The Mayor of Baltimore said it herself that riotors will have space to riot and she probably told police to stand down and let them.']"
      ]
     },
     "execution_count": 7,
     "metadata": {},
     "output_type": "execute_result"
    }
   ],
   "source": [
    "df_potential_reddit[index_reddit.isin(index_dogwhistle)].head(10)['content'].to_list()"
   ]
  },
  {
   "cell_type": "code",
   "execution_count": 8,
   "metadata": {},
   "outputs": [],
   "source": [
    "df_not_dogwhistle_reddit = df_potential_reddit[~index_reddit.isin(index_dogwhistle)]\n",
    "df_not_dogwhistle_congress = df_potential_congress[~index_congress.isin(index_dogwhistle)]"
   ]
  },
  {
   "cell_type": "code",
   "execution_count": 9,
   "metadata": {},
   "outputs": [
    {
     "data": {
      "text/plain": [
       "['Find me a quote or link where he denied that he thinks the earth is 6000 years old. Because he is a twice baptised seventh day adventist. I think someone that literally believes that Charles Darwin was influenced by Satan would absolutely DESTROY scientific research in this country.',\n",
       " 'When literally every single fact tells you that you\\'re wrong and your only counter is \"well the bible says this\" you have a shit argument.',\n",
       " 'I had to read the label of every single thing or have 200 mosquito bite like swellings all over my body that itched like hell.',\n",
       " \"That's 62.5 days, you still need to consider tho they're talking about a single game, you're talking your steam collection with multiple games.\",\n",
       " \"Blue camo never made sense to me. It only works if you're in the water. If that were the case wouldn't you want to be spotted?\",\n",
       " '👌👀👌👀👌👀👌👀👌👀 good shit go౦ԁ sHit👌 thats ✔ some good👌👌shit right👌👌th 👌 ere👌👌👌 right✔there ✔✔if i do ƽaү so my selｆ 💯 i say so 💯 thats what im talking about right there right there (chorus: ʳᶦᵍʰᵗ ᵗʰᵉʳᵉ) mMMMMᎷМ💯 👌👌 👌НO0ОଠＯOOＯOОଠଠOoooᵒᵒᵒᵒᵒᵒᵒᵒᵒ👌 👌👌 👌 💯 👌 👀 👀 👀 👌👌Good shit',\n",
       " \"I had it and it was marginally less good than a normal whopper. They say it has A1 sauce in the bun, but actually I think they put a little bit on the burger because the bun tastes more or less like rye bread. Edit: It's blue dye, that's why the bun is like that. If you get one you will understand a few hours after you eat it.\",\n",
       " 'Well waiting at publix lets you do soem shopping. Find the good blue cheese dressing for the wings or one time me and a roomate went nuts. We lived in orlando where there USED to be a what-a-burger and drunken nights consisted of honeybutter chicken biscuits that were amazing but had the density of a collapsing sun... anyway we bought pillsbury biscuits, the flaky peel off ones, bacon, butter and honey... buddy, this shit will change your life....',\n",
       " \"I have eaten both blue and black corn tortillas. Granted the tortillas are that color because that is the color of the corn they use. They are very good. I wouldn't mind trying out this burger.\",\n",
       " '&gt;👌👀👌👀👌👀👌👀👌👀 good shit go౦ԁ sHit👌 thats ✔ some good👌👌shit right👌👌th 👌 ere👌👌👌 right✔there ✔✔if i do ƽaү so my selｆ 💯 i say so 💯 thats what im talking about right there right there (chorus: ʳᶦᵍʰᵗ ᵗʰᵉʳᵉ) mMMMMᎷМ💯 👌👌 👌НO0ОଠＯOOＯOОଠଠOoooᵒᵒᵒᵒᵒᵒᵒᵒᵒ👌 👌👌 👌 💯 👌 👀 👀 👀 👌👌Good shit']"
      ]
     },
     "execution_count": 9,
     "metadata": {},
     "output_type": "execute_result"
    }
   ],
   "source": [
    "df_not_dogwhistle_reddit['content'].head(10).to_list()"
   ]
  },
  {
   "cell_type": "code",
   "execution_count": 10,
   "metadata": {},
   "outputs": [],
   "source": [
    "df_complete = pd.DataFrame(columns=['label', 'content', 'dog_whistle', 'ingroup', 'type'])"
   ]
  },
  {
   "cell_type": "code",
   "execution_count": 11,
   "metadata": {},
   "outputs": [
    {
     "data": {
      "text/html": [
       "<div>\n",
       "<style scoped>\n",
       "    .dataframe tbody tr th:only-of-type {\n",
       "        vertical-align: middle;\n",
       "    }\n",
       "\n",
       "    .dataframe tbody tr th {\n",
       "        vertical-align: top;\n",
       "    }\n",
       "\n",
       "    .dataframe thead th {\n",
       "        text-align: right;\n",
       "    }\n",
       "</style>\n",
       "<table border=\"1\" class=\"dataframe\">\n",
       "  <thead>\n",
       "    <tr style=\"text-align: right;\">\n",
       "      <th></th>\n",
       "      <th>label</th>\n",
       "      <th>content</th>\n",
       "      <th>dog_whistle</th>\n",
       "      <th>ingroup</th>\n",
       "      <th>type</th>\n",
       "    </tr>\n",
       "  </thead>\n",
       "  <tbody>\n",
       "    <tr>\n",
       "      <th>0</th>\n",
       "      <td>1</td>\n",
       "      <td>Far left SJW/Woke activists use a variety of w...</td>\n",
       "      <td>SJW</td>\n",
       "      <td>anti-liberal</td>\n",
       "      <td>Informal</td>\n",
       "    </tr>\n",
       "    <tr>\n",
       "      <th>1</th>\n",
       "      <td>1</td>\n",
       "      <td>1) Relax. We don’t need SJW-lites commenting o...</td>\n",
       "      <td>SJW</td>\n",
       "      <td>anti-liberal</td>\n",
       "      <td>Informal</td>\n",
       "    </tr>\n",
       "    <tr>\n",
       "      <th>2</th>\n",
       "      <td>1</td>\n",
       "      <td>Sure, Tifa is extreme (Advent Children is fine...</td>\n",
       "      <td>SJW</td>\n",
       "      <td>anti-liberal</td>\n",
       "      <td>Informal</td>\n",
       "    </tr>\n",
       "    <tr>\n",
       "      <th>3</th>\n",
       "      <td>1</td>\n",
       "      <td>Sure theyve made a lot of decisions I as a gam...</td>\n",
       "      <td>SJWs</td>\n",
       "      <td>anti-liberal</td>\n",
       "      <td>Informal</td>\n",
       "    </tr>\n",
       "    <tr>\n",
       "      <th>4</th>\n",
       "      <td>1</td>\n",
       "      <td>I disagree. Wanting fair treatment and the fur...</td>\n",
       "      <td>SJWs</td>\n",
       "      <td>anti-liberal</td>\n",
       "      <td>Informal</td>\n",
       "    </tr>\n",
       "    <tr>\n",
       "      <th>5</th>\n",
       "      <td>1</td>\n",
       "      <td>His antagonism toward SJWs precipitated near-r...</td>\n",
       "      <td>SJWs</td>\n",
       "      <td>anti-liberal</td>\n",
       "      <td>Informal</td>\n",
       "    </tr>\n",
       "    <tr>\n",
       "      <th>6</th>\n",
       "      <td>1</td>\n",
       "      <td>And Iowa is an important state for Trump in a ...</td>\n",
       "      <td>blue</td>\n",
       "      <td>antisemitic</td>\n",
       "      <td>Informal</td>\n",
       "    </tr>\n",
       "    <tr>\n",
       "      <th>7</th>\n",
       "      <td>1</td>\n",
       "      <td>I can understand that point of view. It does m...</td>\n",
       "      <td>LGB</td>\n",
       "      <td>transphobic</td>\n",
       "      <td>Informal</td>\n",
       "    </tr>\n",
       "    <tr>\n",
       "      <th>8</th>\n",
       "      <td>1</td>\n",
       "      <td>The “people”, the vast majority of the Europea...</td>\n",
       "      <td>working class</td>\n",
       "      <td>racist</td>\n",
       "      <td>Informal</td>\n",
       "    </tr>\n",
       "    <tr>\n",
       "      <th>9</th>\n",
       "      <td>1</td>\n",
       "      <td>I worked in the Californian construction indus...</td>\n",
       "      <td>working class</td>\n",
       "      <td>racist</td>\n",
       "      <td>Informal</td>\n",
       "    </tr>\n",
       "  </tbody>\n",
       "</table>\n",
       "</div>"
      ],
      "text/plain": [
       "   label                                            content    dog_whistle  \\\n",
       "0      1  Far left SJW/Woke activists use a variety of w...            SJW   \n",
       "1      1  1) Relax. We don’t need SJW-lites commenting o...            SJW   \n",
       "2      1  Sure, Tifa is extreme (Advent Children is fine...            SJW   \n",
       "3      1  Sure theyve made a lot of decisions I as a gam...           SJWs   \n",
       "4      1  I disagree. Wanting fair treatment and the fur...           SJWs   \n",
       "5      1  His antagonism toward SJWs precipitated near-r...           SJWs   \n",
       "6      1  And Iowa is an important state for Trump in a ...           blue   \n",
       "7      1  I can understand that point of view. It does m...            LGB   \n",
       "8      1  The “people”, the vast majority of the Europea...  working class   \n",
       "9      1  I worked in the Californian construction indus...  working class   \n",
       "\n",
       "        ingroup      type  \n",
       "0  anti-liberal  Informal  \n",
       "1  anti-liberal  Informal  \n",
       "2  anti-liberal  Informal  \n",
       "3  anti-liberal  Informal  \n",
       "4  anti-liberal  Informal  \n",
       "5  anti-liberal  Informal  \n",
       "6   antisemitic  Informal  \n",
       "7   transphobic  Informal  \n",
       "8        racist  Informal  \n",
       "9        racist  Informal  "
      ]
     },
     "execution_count": 11,
     "metadata": {},
     "output_type": "execute_result"
    }
   ],
   "source": [
    "df_dogwhistle_crop = df_dogwhistle[['content', 'dog_whistle', 'ingroup', 'type']]\n",
    "df_dogwhistle_crop.insert(0, 'label', 1)\n",
    "df_dogwhistle_crop.head(10)"
   ]
  },
  {
   "cell_type": "code",
   "execution_count": 12,
   "metadata": {},
   "outputs": [
    {
     "data": {
      "text/html": [
       "<div>\n",
       "<style scoped>\n",
       "    .dataframe tbody tr th:only-of-type {\n",
       "        vertical-align: middle;\n",
       "    }\n",
       "\n",
       "    .dataframe tbody tr th {\n",
       "        vertical-align: top;\n",
       "    }\n",
       "\n",
       "    .dataframe thead th {\n",
       "        text-align: right;\n",
       "    }\n",
       "</style>\n",
       "<table border=\"1\" class=\"dataframe\">\n",
       "  <thead>\n",
       "    <tr style=\"text-align: right;\">\n",
       "      <th></th>\n",
       "      <th>label</th>\n",
       "      <th>content</th>\n",
       "      <th>dog_whistle</th>\n",
       "      <th>ingroup</th>\n",
       "      <th>type</th>\n",
       "    </tr>\n",
       "  </thead>\n",
       "  <tbody>\n",
       "    <tr>\n",
       "      <th>0</th>\n",
       "      <td>0</td>\n",
       "      <td>Find me a quote or link where he denied that h...</td>\n",
       "      <td>EST</td>\n",
       "      <td>white supremacist</td>\n",
       "      <td>Informal</td>\n",
       "    </tr>\n",
       "    <tr>\n",
       "      <th>1</th>\n",
       "      <td>0</td>\n",
       "      <td>When literally every single fact tells you tha...</td>\n",
       "      <td>single</td>\n",
       "      <td>homophobic</td>\n",
       "      <td>Informal</td>\n",
       "    </tr>\n",
       "    <tr>\n",
       "      <th>2</th>\n",
       "      <td>0</td>\n",
       "      <td>I had to read the label of every single thing ...</td>\n",
       "      <td>single</td>\n",
       "      <td>homophobic</td>\n",
       "      <td>Informal</td>\n",
       "    </tr>\n",
       "    <tr>\n",
       "      <th>3</th>\n",
       "      <td>0</td>\n",
       "      <td>That's 62.5 days, you still need to consider t...</td>\n",
       "      <td>single</td>\n",
       "      <td>homophobic</td>\n",
       "      <td>Informal</td>\n",
       "    </tr>\n",
       "    <tr>\n",
       "      <th>4</th>\n",
       "      <td>0</td>\n",
       "      <td>Blue camo never made sense to me. It only work...</td>\n",
       "      <td>blue</td>\n",
       "      <td>antisemitic</td>\n",
       "      <td>Informal</td>\n",
       "    </tr>\n",
       "    <tr>\n",
       "      <th>5</th>\n",
       "      <td>0</td>\n",
       "      <td>👌👀👌👀👌👀👌👀👌👀 good shit go౦ԁ sHit👌 thats ✔ some g...</td>\n",
       "      <td>👌</td>\n",
       "      <td>white supremacist</td>\n",
       "      <td>Informal</td>\n",
       "    </tr>\n",
       "    <tr>\n",
       "      <th>6</th>\n",
       "      <td>0</td>\n",
       "      <td>I had it and it was marginally less good than ...</td>\n",
       "      <td>blue</td>\n",
       "      <td>antisemitic</td>\n",
       "      <td>Informal</td>\n",
       "    </tr>\n",
       "    <tr>\n",
       "      <th>7</th>\n",
       "      <td>0</td>\n",
       "      <td>Well waiting at publix lets you do soem shoppi...</td>\n",
       "      <td>blue</td>\n",
       "      <td>antisemitic</td>\n",
       "      <td>Informal</td>\n",
       "    </tr>\n",
       "    <tr>\n",
       "      <th>8</th>\n",
       "      <td>0</td>\n",
       "      <td>I have eaten both blue and black corn tortilla...</td>\n",
       "      <td>blue</td>\n",
       "      <td>antisemitic</td>\n",
       "      <td>Informal</td>\n",
       "    </tr>\n",
       "    <tr>\n",
       "      <th>9</th>\n",
       "      <td>0</td>\n",
       "      <td>&amp;gt;👌👀👌👀👌👀👌👀👌👀 good shit go౦ԁ sHit👌 thats ✔ so...</td>\n",
       "      <td>👌</td>\n",
       "      <td>white supremacist</td>\n",
       "      <td>Informal</td>\n",
       "    </tr>\n",
       "  </tbody>\n",
       "</table>\n",
       "</div>"
      ],
      "text/plain": [
       "   label                                            content dog_whistle  \\\n",
       "0      0  Find me a quote or link where he denied that h...         EST   \n",
       "1      0  When literally every single fact tells you tha...      single   \n",
       "2      0  I had to read the label of every single thing ...      single   \n",
       "3      0  That's 62.5 days, you still need to consider t...      single   \n",
       "4      0  Blue camo never made sense to me. It only work...        blue   \n",
       "5      0  👌👀👌👀👌👀👌👀👌👀 good shit go౦ԁ sHit👌 thats ✔ some g...           👌   \n",
       "6      0  I had it and it was marginally less good than ...        blue   \n",
       "7      0  Well waiting at publix lets you do soem shoppi...        blue   \n",
       "8      0  I have eaten both blue and black corn tortilla...        blue   \n",
       "9      0  &gt;👌👀👌👀👌👀👌👀👌👀 good shit go౦ԁ sHit👌 thats ✔ so...           👌   \n",
       "\n",
       "             ingroup      type  \n",
       "0  white supremacist  Informal  \n",
       "1         homophobic  Informal  \n",
       "2         homophobic  Informal  \n",
       "3         homophobic  Informal  \n",
       "4        antisemitic  Informal  \n",
       "5  white supremacist  Informal  \n",
       "6        antisemitic  Informal  \n",
       "7        antisemitic  Informal  \n",
       "8        antisemitic  Informal  \n",
       "9  white supremacist  Informal  "
      ]
     },
     "execution_count": 12,
     "metadata": {},
     "output_type": "execute_result"
    }
   ],
   "source": [
    "df_not_dogwhistle_reddit_crop = df_not_dogwhistle_reddit[['content', 'dog_whistle', 'ingroup']]\n",
    "df_not_dogwhistle_reddit_crop.insert(0, 'label', 0)\n",
    "df_not_dogwhistle_reddit_crop.insert(4, 'type', 'Informal')\n",
    "df_not_dogwhistle_reddit_crop.head(10)"
   ]
  },
  {
   "cell_type": "code",
   "execution_count": 13,
   "metadata": {},
   "outputs": [
    {
     "data": {
      "text/html": [
       "<div>\n",
       "<style scoped>\n",
       "    .dataframe tbody tr th:only-of-type {\n",
       "        vertical-align: middle;\n",
       "    }\n",
       "\n",
       "    .dataframe tbody tr th {\n",
       "        vertical-align: top;\n",
       "    }\n",
       "\n",
       "    .dataframe thead th {\n",
       "        text-align: right;\n",
       "    }\n",
       "</style>\n",
       "<table border=\"1\" class=\"dataframe\">\n",
       "  <thead>\n",
       "    <tr style=\"text-align: right;\">\n",
       "      <th></th>\n",
       "      <th>label</th>\n",
       "      <th>content</th>\n",
       "      <th>dog_whistle</th>\n",
       "      <th>ingroup</th>\n",
       "      <th>type</th>\n",
       "    </tr>\n",
       "  </thead>\n",
       "  <tbody>\n",
       "    <tr>\n",
       "      <th>0</th>\n",
       "      <td>0</td>\n",
       "      <td>That is why I stand with my colleagues today i...</td>\n",
       "      <td>safeguard</td>\n",
       "      <td>transphobic</td>\n",
       "      <td>Formal</td>\n",
       "    </tr>\n",
       "    <tr>\n",
       "      <th>1</th>\n",
       "      <td>0</td>\n",
       "      <td>Roebuck Is in the banking business. I would su...</td>\n",
       "      <td>bankers</td>\n",
       "      <td>antisemitic</td>\n",
       "      <td>Formal</td>\n",
       "    </tr>\n",
       "    <tr>\n",
       "      <th>2</th>\n",
       "      <td>0</td>\n",
       "      <td>It results directly from the Presidents excess...</td>\n",
       "      <td>tax cut</td>\n",
       "      <td>racist</td>\n",
       "      <td>Formal</td>\n",
       "    </tr>\n",
       "    <tr>\n",
       "      <th>3</th>\n",
       "      <td>0</td>\n",
       "      <td>It results directly from the Presidents excess...</td>\n",
       "      <td>tax cuts</td>\n",
       "      <td>racist</td>\n",
       "      <td>Formal</td>\n",
       "    </tr>\n",
       "    <tr>\n",
       "      <th>4</th>\n",
       "      <td>0</td>\n",
       "      <td>children and the helpless without pausing to g...</td>\n",
       "      <td>tax cut</td>\n",
       "      <td>racist</td>\n",
       "      <td>Formal</td>\n",
       "    </tr>\n",
       "    <tr>\n",
       "      <th>5</th>\n",
       "      <td>0</td>\n",
       "      <td>from the special interest organizations who ha...</td>\n",
       "      <td>special interest</td>\n",
       "      <td>antisemitic</td>\n",
       "      <td>Formal</td>\n",
       "    </tr>\n",
       "    <tr>\n",
       "      <th>6</th>\n",
       "      <td>0</td>\n",
       "      <td>which is less concerned with turning welfare r...</td>\n",
       "      <td>welfare</td>\n",
       "      <td>racist</td>\n",
       "      <td>Formal</td>\n",
       "    </tr>\n",
       "    <tr>\n",
       "      <th>7</th>\n",
       "      <td>0</td>\n",
       "      <td>children and the helpless without pausing to g...</td>\n",
       "      <td>tax cuts</td>\n",
       "      <td>racist</td>\n",
       "      <td>Formal</td>\n",
       "    </tr>\n",
       "    <tr>\n",
       "      <th>8</th>\n",
       "      <td>0</td>\n",
       "      <td>The \"political difficulty\" is that Senators an...</td>\n",
       "      <td>special interests</td>\n",
       "      <td>antisemitic</td>\n",
       "      <td>Formal</td>\n",
       "    </tr>\n",
       "    <tr>\n",
       "      <th>9</th>\n",
       "      <td>0</td>\n",
       "      <td>the Woods Hole Oceanographic Institute. the Bo...</td>\n",
       "      <td>urban</td>\n",
       "      <td>racist</td>\n",
       "      <td>Formal</td>\n",
       "    </tr>\n",
       "  </tbody>\n",
       "</table>\n",
       "</div>"
      ],
      "text/plain": [
       "   label                                            content  \\\n",
       "0      0  That is why I stand with my colleagues today i...   \n",
       "1      0  Roebuck Is in the banking business. I would su...   \n",
       "2      0  It results directly from the Presidents excess...   \n",
       "3      0  It results directly from the Presidents excess...   \n",
       "4      0  children and the helpless without pausing to g...   \n",
       "5      0  from the special interest organizations who ha...   \n",
       "6      0  which is less concerned with turning welfare r...   \n",
       "7      0  children and the helpless without pausing to g...   \n",
       "8      0  The \"political difficulty\" is that Senators an...   \n",
       "9      0  the Woods Hole Oceanographic Institute. the Bo...   \n",
       "\n",
       "         dog_whistle      ingroup    type  \n",
       "0          safeguard  transphobic  Formal  \n",
       "1            bankers  antisemitic  Formal  \n",
       "2            tax cut       racist  Formal  \n",
       "3           tax cuts       racist  Formal  \n",
       "4            tax cut       racist  Formal  \n",
       "5   special interest  antisemitic  Formal  \n",
       "6            welfare       racist  Formal  \n",
       "7           tax cuts       racist  Formal  \n",
       "8  special interests  antisemitic  Formal  \n",
       "9              urban       racist  Formal  "
      ]
     },
     "execution_count": 13,
     "metadata": {},
     "output_type": "execute_result"
    }
   ],
   "source": [
    "df_not_dogwhistle_congress_crop = df_not_dogwhistle_congress[['content', 'dog_whistle', 'ingroup']]\n",
    "df_not_dogwhistle_congress_crop.insert(0, 'label', 0)\n",
    "df_not_dogwhistle_congress_crop.insert(4, 'type', 'Formal')\n",
    "df_not_dogwhistle_congress_crop.head(10)"
   ]
  },
  {
   "cell_type": "code",
   "execution_count": 14,
   "metadata": {},
   "outputs": [
    {
     "data": {
      "text/html": [
       "<div>\n",
       "<style scoped>\n",
       "    .dataframe tbody tr th:only-of-type {\n",
       "        vertical-align: middle;\n",
       "    }\n",
       "\n",
       "    .dataframe tbody tr th {\n",
       "        vertical-align: top;\n",
       "    }\n",
       "\n",
       "    .dataframe thead th {\n",
       "        text-align: right;\n",
       "    }\n",
       "</style>\n",
       "<table border=\"1\" class=\"dataframe\">\n",
       "  <thead>\n",
       "    <tr style=\"text-align: right;\">\n",
       "      <th></th>\n",
       "      <th>label</th>\n",
       "      <th>content</th>\n",
       "      <th>dog_whistle</th>\n",
       "      <th>ingroup</th>\n",
       "      <th>type</th>\n",
       "    </tr>\n",
       "  </thead>\n",
       "  <tbody>\n",
       "    <tr>\n",
       "      <th>0</th>\n",
       "      <td>0</td>\n",
       "      <td>It's probs most appropriate description i can ...</td>\n",
       "      <td>based</td>\n",
       "      <td>white supremacist</td>\n",
       "      <td>Informal</td>\n",
       "    </tr>\n",
       "    <tr>\n",
       "      <th>1</th>\n",
       "      <td>0</td>\n",
       "      <td>If you think the people will regain control of...</td>\n",
       "      <td>the Fed</td>\n",
       "      <td>antisemitic</td>\n",
       "      <td>Informal</td>\n",
       "    </tr>\n",
       "    <tr>\n",
       "      <th>2</th>\n",
       "      <td>0</td>\n",
       "      <td>No, because he would have been weeded out duri...</td>\n",
       "      <td>majority minority</td>\n",
       "      <td>racist</td>\n",
       "      <td>Informal</td>\n",
       "    </tr>\n",
       "    <tr>\n",
       "      <th>3</th>\n",
       "      <td>0</td>\n",
       "      <td>And that they were forming a plan based on the...</td>\n",
       "      <td>based</td>\n",
       "      <td>white supremacist</td>\n",
       "      <td>Informal</td>\n",
       "    </tr>\n",
       "    <tr>\n",
       "      <th>4</th>\n",
       "      <td>0</td>\n",
       "      <td>Even if they do experience it as victims, buil...</td>\n",
       "      <td>LGB</td>\n",
       "      <td>transphobic</td>\n",
       "      <td>Informal</td>\n",
       "    </tr>\n",
       "    <tr>\n",
       "      <th>5</th>\n",
       "      <td>0</td>\n",
       "      <td>I am serious, my dad drove a truck for a livin...</td>\n",
       "      <td>snowflakes</td>\n",
       "      <td>anti-liberal</td>\n",
       "      <td>Informal</td>\n",
       "    </tr>\n",
       "    <tr>\n",
       "      <th>6</th>\n",
       "      <td>0</td>\n",
       "      <td>Nah man he was a good boy who just so happened...</td>\n",
       "      <td>he was a good boy</td>\n",
       "      <td>racist</td>\n",
       "      <td>Informal</td>\n",
       "    </tr>\n",
       "    <tr>\n",
       "      <th>7</th>\n",
       "      <td>0</td>\n",
       "      <td>Because the words are actually shortened versi...</td>\n",
       "      <td>biological woman</td>\n",
       "      <td>transphobic</td>\n",
       "      <td>Informal</td>\n",
       "    </tr>\n",
       "    <tr>\n",
       "      <th>8</th>\n",
       "      <td>0</td>\n",
       "      <td>It's been ten years, shit has already hit the ...</td>\n",
       "      <td>neoliberal</td>\n",
       "      <td>liberal</td>\n",
       "      <td>Informal</td>\n",
       "    </tr>\n",
       "    <tr>\n",
       "      <th>9</th>\n",
       "      <td>0</td>\n",
       "      <td>### THIS IS THE FBI, EVERYONE GET ON THE GROUN...</td>\n",
       "      <td>EST</td>\n",
       "      <td>white supremacist</td>\n",
       "      <td>Informal</td>\n",
       "    </tr>\n",
       "  </tbody>\n",
       "</table>\n",
       "</div>"
      ],
      "text/plain": [
       "   label                                            content  \\\n",
       "0      0  It's probs most appropriate description i can ...   \n",
       "1      0  If you think the people will regain control of...   \n",
       "2      0  No, because he would have been weeded out duri...   \n",
       "3      0  And that they were forming a plan based on the...   \n",
       "4      0  Even if they do experience it as victims, buil...   \n",
       "5      0  I am serious, my dad drove a truck for a livin...   \n",
       "6      0  Nah man he was a good boy who just so happened...   \n",
       "7      0  Because the words are actually shortened versi...   \n",
       "8      0  It's been ten years, shit has already hit the ...   \n",
       "9      0  ### THIS IS THE FBI, EVERYONE GET ON THE GROUN...   \n",
       "\n",
       "         dog_whistle            ingroup      type  \n",
       "0              based  white supremacist  Informal  \n",
       "1            the Fed        antisemitic  Informal  \n",
       "2  majority minority             racist  Informal  \n",
       "3              based  white supremacist  Informal  \n",
       "4                LGB        transphobic  Informal  \n",
       "5         snowflakes       anti-liberal  Informal  \n",
       "6  he was a good boy             racist  Informal  \n",
       "7   biological woman        transphobic  Informal  \n",
       "8         neoliberal            liberal  Informal  \n",
       "9                EST  white supremacist  Informal  "
      ]
     },
     "execution_count": 14,
     "metadata": {},
     "output_type": "execute_result"
    }
   ],
   "source": [
    "df_full = pd.concat([df_dogwhistle_crop, df_not_dogwhistle_reddit_crop, df_not_dogwhistle_congress_crop], ignore_index=True)\n",
    "df_full = df_full.sample(frac=1).reset_index(drop=True)\n",
    "df = df_full\n",
    "df_full.head(10)"
   ]
  },
  {
   "cell_type": "code",
   "execution_count": 15,
   "metadata": {},
   "outputs": [
    {
     "data": {
      "image/png": "[encoded data removed]",
      "text/plain": [
       "<Figure size 600x600 with 1 Axes>"
      ]
     },
     "metadata": {},
     "output_type": "display_data"
    }
   ],
   "source": [
    "fig, ax = plt.subplots(figsize=(6,6))\n",
    "n, bins, patches = ax.hist(df_full['label'], range=(-0.5,1.5), bins=2, alpha=0.5, rwidth=0.5)\n",
    "patches[0].set_facecolor('red')\n",
    "patches[1].set_facecolor('blue')\n",
    "ax.set_xticks([0, 1], labels=['Not Dog Whistle', 'Dog Whistle'])\n",
    "ax.set_xlim(-0.5, 1.5)\n",
    "ax.set_yscale('log')\n",
    "ax.set_ylabel('Count')\n",
    "fig.savefig(\"dataset_hist_label.png\", dpi=250, bbox_inches='tight', pad_inches=0.1)\n",
    "plt.show()"
   ]
  },
  {
   "cell_type": "code",
   "execution_count": 16,
   "metadata": {},
   "outputs": [
    {
     "data": {
      "image/png": "[encoded data removed]",
      "text/plain": [
       "<Figure size 600x600 with 1 Axes>"
      ]
     },
     "metadata": {},
     "output_type": "display_data"
    }
   ],
   "source": [
    "fig, ax = plt.subplots(figsize=(6, 6))\n",
    "n, bins, patches = ax.hist(df_full['type'], range=(-0.5,1.5), bins=2, alpha=0.5, rwidth=0.5)\n",
    "patches[0].set_facecolor('orange')\n",
    "patches[1].set_facecolor('purple')\n",
    "ax.set_xticks([0, 1], labels=['Informal', 'Formal'])\n",
    "ax.set_xlim(-0.5, 1.5)\n",
    "# ax.set_yscale('log')\n",
    "ax.set_ylabel('Count')\n",
    "fig.savefig(\"dataset_hist_type.png\", dpi=250, bbox_inches='tight', pad_inches=0.1)\n",
    "plt.show()"
   ]
  },
  {
   "cell_type": "code",
   "execution_count": 17,
   "metadata": {},
   "outputs": [
    {
     "data": {
      "image/png": "[encoded data removed]",
      "text/plain": [
       "<Figure size 1000x600 with 1 Axes>"
      ]
     },
     "metadata": {},
     "output_type": "display_data"
    }
   ],
   "source": [
    "fig, ax = plt.subplots(figsize=(10, 6))\n",
    "labels, counts = np.unique(df_full['ingroup'], return_counts=True)\n",
    "ticks = range(len(counts))\n",
    "ax.bar(ticks, counts, color='orange', alpha=0.5, align='center')\n",
    "ax.set_ylabel('Count')\n",
    "ax.set_yscale('log')\n",
    "ax.set_xticks(ticks, labels)\n",
    "ax.set_xticklabels(labels, rotation=45, ha='right')\n",
    "fig.savefig(\"dataset_hist_ingroup.png\", dpi=250, bbox_inches='tight', pad_inches=0.1)\n",
    "plt.show()"
   ]
  },
  {
   "cell_type": "code",
   "execution_count": 18,
   "metadata": {},
   "outputs": [],
   "source": [
    "dataset_full = Dataset.from_pandas(df_full)"
   ]
  },
  {
   "cell_type": "code",
   "execution_count": 19,
   "metadata": {},
   "outputs": [
    {
     "name": "stdout",
     "output_type": "stream",
     "text": [
      "Dataset({\n",
      "    features: ['label', 'content', 'dog_whistle', 'ingroup', 'type'],\n",
      "    num_rows: 7118453\n",
      "})\n"
     ]
    }
   ],
   "source": [
    "print(dataset_full)"
   ]
  },
  {
   "cell_type": "code",
   "execution_count": 30,
   "metadata": {},
   "outputs": [
    {
     "data": {
      "application/vnd.jupyter.widget-view+json": {
       "model_id": "ddc2e2d24be84e108a57cf299f26c18d",
       "version_major": 2,
       "version_minor": 0
      },
      "text/plain": [
       "Pushing dataset shards to the dataset hub:   0%|          | 0/5 [00:00<?, ?it/s]"
      ]
     },
     "metadata": {},
     "output_type": "display_data"
    },
    {
     "data": {
      "application/vnd.jupyter.widget-view+json": {
       "model_id": "a4eb5b0fad4c49509b568ef016fa3ecc",
       "version_major": 2,
       "version_minor": 0
      },
      "text/plain": [
       "Creating parquet from Arrow format:   0%|          | 0/1424 [00:00<?, ?ba/s]"
      ]
     },
     "metadata": {},
     "output_type": "display_data"
    },
    {
     "data": {
      "application/vnd.jupyter.widget-view+json": {
       "model_id": "970d2536c8654d87889fa1b637c100c0",
       "version_major": 2,
       "version_minor": 0
      },
      "text/plain": [
       "Upload 1 LFS files:   0%|          | 0/1 [00:00<?, ?it/s]"
      ]
     },
     "metadata": {},
     "output_type": "display_data"
    },
    {
     "data": {
      "application/vnd.jupyter.widget-view+json": {
       "model_id": "cfd91ae9be26403e827b296ea6f34bee",
       "version_major": 2,
       "version_minor": 0
      },
      "text/plain": [
       "Creating parquet from Arrow format:   0%|          | 0/1424 [00:00<?, ?ba/s]"
      ]
     },
     "metadata": {},
     "output_type": "display_data"
    },
    {
     "data": {
      "application/vnd.jupyter.widget-view+json": {
       "model_id": "00ff72b146fd4ad4b28a04129ba131b7",
       "version_major": 2,
       "version_minor": 0
      },
      "text/plain": [
       "Upload 1 LFS files:   0%|          | 0/1 [00:00<?, ?it/s]"
      ]
     },
     "metadata": {},
     "output_type": "display_data"
    },
    {
     "data": {
      "application/vnd.jupyter.widget-view+json": {
       "model_id": "30dce01b070e46f7a3e0ee24a8fd8eb7",
       "version_major": 2,
       "version_minor": 0
      },
      "text/plain": [
       "Creating parquet from Arrow format:   0%|          | 0/1424 [00:00<?, ?ba/s]"
      ]
     },
     "metadata": {},
     "output_type": "display_data"
    },
    {
     "data": {
      "application/vnd.jupyter.widget-view+json": {
       "model_id": "58e890eab3784e97ba502fc1375e3c69",
       "version_major": 2,
       "version_minor": 0
      },
      "text/plain": [
       "Upload 1 LFS files:   0%|          | 0/1 [00:00<?, ?it/s]"
      ]
     },
     "metadata": {},
     "output_type": "display_data"
    },
    {
     "data": {
      "application/vnd.jupyter.widget-view+json": {
       "model_id": "053d495435594bffa9254a0522e3296c",
       "version_major": 2,
       "version_minor": 0
      },
      "text/plain": [
       "Creating parquet from Arrow format:   0%|          | 0/1424 [00:00<?, ?ba/s]"
      ]
     },
     "metadata": {},
     "output_type": "display_data"
    },
    {
     "data": {
      "application/vnd.jupyter.widget-view+json": {
       "model_id": "4164da9475354c09995f037c9e58823d",
       "version_major": 2,
       "version_minor": 0
      },
      "text/plain": [
       "Upload 1 LFS files:   0%|          | 0/1 [00:00<?, ?it/s]"
      ]
     },
     "metadata": {},
     "output_type": "display_data"
    },
    {
     "data": {
      "application/vnd.jupyter.widget-view+json": {
       "model_id": "84826497b1fe453a87fcd4d0842969d5",
       "version_major": 2,
       "version_minor": 0
      },
      "text/plain": [
       "Creating parquet from Arrow format:   0%|          | 0/1424 [00:00<?, ?ba/s]"
      ]
     },
     "metadata": {},
     "output_type": "display_data"
    },
    {
     "data": {
      "application/vnd.jupyter.widget-view+json": {
       "model_id": "179d9bce74504c18926119f8e23c6331",
       "version_major": 2,
       "version_minor": 0
      },
      "text/plain": [
       "Upload 1 LFS files:   0%|          | 0/1 [00:00<?, ?it/s]"
      ]
     },
     "metadata": {},
     "output_type": "display_data"
    },
    {
     "data": {
      "application/vnd.jupyter.widget-view+json": {
       "model_id": "b7dd873ee29c4ff1b40bd0fc2b8e5907",
       "version_major": 2,
       "version_minor": 0
      },
      "text/plain": [
       "Downloading metadata:   0%|          | 0.00/2.65k [00:00<?, ?B/s]"
      ]
     },
     "metadata": {},
     "output_type": "display_data"
    }
   ],
   "source": [
    "dataset_full.push_to_hub(\"AstroAure/dogwhistle_dataset\")"
   ]
  },
  {
   "cell_type": "markdown",
   "metadata": {},
   "source": [
    "## Update dataset - 1"
   ]
  },
  {
   "cell_type": "code",
   "execution_count": 2,
   "metadata": {},
   "outputs": [
    {
     "name": "stderr",
     "output_type": "stream",
     "text": [
      "Found cached dataset parquet (C:/Users/aurel/.cache/huggingface/datasets/AstroAure___parquet/AstroAure--dogwhistle_dataset-9328aa157d7853f8/0.0.0/2a3b91fbd88a2c90d1dbbb32b460cf621d31bd5b05b934492fdef7d8d6f236ec)\n"
     ]
    },
    {
     "data": {
      "application/vnd.jupyter.widget-view+json": {
       "model_id": "872536b836be41a0b67d4fe5f5e7f382",
       "version_major": 2,
       "version_minor": 0
      },
      "text/plain": [
       "  0%|          | 0/1 [00:00<?, ?it/s]"
      ]
     },
     "metadata": {},
     "output_type": "display_data"
    }
   ],
   "source": [
    "ds = load_dataset(\"AstroAure/dogwhistle_dataset\")"
   ]
  },
  {
   "cell_type": "code",
   "execution_count": 3,
   "metadata": {},
   "outputs": [],
   "source": [
    "df = ds['train'].to_pandas()"
   ]
  },
  {
   "cell_type": "code",
   "execution_count": 4,
   "metadata": {},
   "outputs": [
    {
     "data": {
      "text/plain": [
       "7118453"
      ]
     },
     "execution_count": 4,
     "metadata": {},
     "output_type": "execute_result"
    }
   ],
   "source": [
    "len(df)"
   ]
  },
  {
   "cell_type": "markdown",
   "metadata": {},
   "source": [
    "### Remove emojis"
   ]
  },
  {
   "cell_type": "code",
   "execution_count": 5,
   "metadata": {},
   "outputs": [
    {
     "name": "stderr",
     "output_type": "stream",
     "text": [
      "100%|██████████| 7118453/7118453 [07:45<00:00, 15293.49it/s]"
     ]
    },
    {
     "name": "stdout",
     "output_type": "stream",
     "text": [
      "60305\n"
     ]
    },
    {
     "name": "stderr",
     "output_type": "stream",
     "text": [
      "\n"
     ]
    }
   ],
   "source": [
    "idx = []\n",
    "for i in tqdm(range(len(df))):\n",
    "    try:\n",
    "        if emoji.emoji_count(df['content'][i]) > 0:\n",
    "            idx.append(i)\n",
    "    except:\n",
    "        # print(f\"Error at index {i}: {df['content'][i]}\")\n",
    "        idx.append(i)\n",
    "print(len(idx))"
   ]
  },
  {
   "cell_type": "code",
   "execution_count": 6,
   "metadata": {},
   "outputs": [],
   "source": [
    "df.drop(index=idx, inplace=True)\n",
    "df.reset_index(drop=True, inplace=True)"
   ]
  },
  {
   "cell_type": "markdown",
   "metadata": {},
   "source": [
    "### Split the dataset"
   ]
  },
  {
   "cell_type": "code",
   "execution_count": 7,
   "metadata": {},
   "outputs": [],
   "source": [
    "ds = Dataset.from_pandas(df)"
   ]
  },
  {
   "cell_type": "code",
   "execution_count": 8,
   "metadata": {},
   "outputs": [],
   "source": [
    "ds = ds.train_test_split(test_size=0.1, shuffle=True, seed=42)"
   ]
  },
  {
   "cell_type": "markdown",
   "metadata": {},
   "source": [
    "### Balance dataset"
   ]
  },
  {
   "cell_type": "code",
   "execution_count": 9,
   "metadata": {},
   "outputs": [
    {
     "data": {
      "image/png": "[encoded data removed]",
      "text/plain": [
       "<Figure size 600x600 with 1 Axes>"
      ]
     },
     "metadata": {},
     "output_type": "display_data"
    }
   ],
   "source": [
    "fig, ax = plt.subplots(figsize=(6,6))\n",
    "n, bins, patches = ax.hist(df['label'], range=(-0.5,1.5), bins=2, alpha=0.5, rwidth=0.5)\n",
    "patches[0].set_facecolor('red')\n",
    "patches[1].set_facecolor('blue')\n",
    "ax.set_xticks([0, 1], labels=['Not Dog Whistle', 'Dog Whistle'])\n",
    "ax.set_xlim(-0.5, 1.5)\n",
    "ax.set_yscale('log')\n",
    "ax.set_ylabel('Count')\n",
    "# fig.savefig(\"dataset_hist_label.png\", dpi=250, bbox_inches='tight', pad_inches=0.1)\n",
    "plt.show()"
   ]
  },
  {
   "cell_type": "code",
   "execution_count": 10,
   "metadata": {},
   "outputs": [],
   "source": [
    "ros = RandomUnderSampler(random_state=42)\n",
    "X_resampled, y_resampled = ros.fit_resample(df.drop(columns=['label']), df['label'])"
   ]
  },
  {
   "cell_type": "code",
   "execution_count": 11,
   "metadata": {},
   "outputs": [
    {
     "data": {
      "image/png": "[encoded data removed]",
      "text/plain": [
       "<Figure size 600x600 with 1 Axes>"
      ]
     },
     "metadata": {},
     "output_type": "display_data"
    }
   ],
   "source": [
    "fig, ax = plt.subplots(figsize=(6,6))\n",
    "n, bins, patches = ax.hist(y_resampled, range=(-0.5,1.5), bins=2, alpha=0.5, rwidth=0.5)\n",
    "patches[0].set_facecolor('red')\n",
    "patches[1].set_facecolor('blue')\n",
    "ax.set_xticks([0, 1], labels=['Not Dog Whistle', 'Dog Whistle'])\n",
    "ax.set_xlim(-0.5, 1.5)\n",
    "ax.set_yscale('log')\n",
    "ax.set_ylabel('Count')\n",
    "# fig.savefig(\"dataset_hist_label.png\", dpi=250, bbox_inches='tight', pad_inches=0.1)\n",
    "plt.show()"
   ]
  },
  {
   "cell_type": "code",
   "execution_count": 12,
   "metadata": {},
   "outputs": [
    {
     "name": "stdout",
     "output_type": "stream",
     "text": [
      "32140\n"
     ]
    }
   ],
   "source": [
    "df_resampled = pd.DataFrame(X_resampled)\n",
    "df_resampled['label'] = y_resampled\n",
    "print(len(df_resampled))"
   ]
  },
  {
   "cell_type": "code",
   "execution_count": 13,
   "metadata": {},
   "outputs": [],
   "source": [
    "df_resampled = df_resampled.sample(frac=1).reset_index(drop=True)"
   ]
  },
  {
   "cell_type": "code",
   "execution_count": 14,
   "metadata": {},
   "outputs": [
    {
     "data": {
      "text/html": [
       "<div>\n",
       "<style scoped>\n",
       "    .dataframe tbody tr th:only-of-type {\n",
       "        vertical-align: middle;\n",
       "    }\n",
       "\n",
       "    .dataframe tbody tr th {\n",
       "        vertical-align: top;\n",
       "    }\n",
       "\n",
       "    .dataframe thead th {\n",
       "        text-align: right;\n",
       "    }\n",
       "</style>\n",
       "<table border=\"1\" class=\"dataframe\">\n",
       "  <thead>\n",
       "    <tr style=\"text-align: right;\">\n",
       "      <th></th>\n",
       "      <th>content</th>\n",
       "      <th>dog_whistle</th>\n",
       "      <th>ingroup</th>\n",
       "      <th>type</th>\n",
       "      <th>label</th>\n",
       "    </tr>\n",
       "  </thead>\n",
       "  <tbody>\n",
       "    <tr>\n",
       "      <th>0</th>\n",
       "      <td>He doubles down, pays a 3rd party PR firm (NYT...</td>\n",
       "      <td>global cabal</td>\n",
       "      <td>antisemitic</td>\n",
       "      <td>Informal</td>\n",
       "      <td>1</td>\n",
       "    </tr>\n",
       "    <tr>\n",
       "      <th>1</th>\n",
       "      <td>We respectfully request that you vote no on an...</td>\n",
       "      <td>balancing the budget</td>\n",
       "      <td>conservative</td>\n",
       "      <td>Formal</td>\n",
       "      <td>1</td>\n",
       "    </tr>\n",
       "    <tr>\n",
       "      <th>2</th>\n",
       "      <td>Retreat would result in instability in the reg...</td>\n",
       "      <td>radical Islam</td>\n",
       "      <td>Islamophobic</td>\n",
       "      <td>Formal</td>\n",
       "      <td>1</td>\n",
       "    </tr>\n",
       "    <tr>\n",
       "      <th>3</th>\n",
       "      <td>But, given the fact that Bernie will NEVER get...</td>\n",
       "      <td>MAGA</td>\n",
       "      <td>white supremacist</td>\n",
       "      <td>Informal</td>\n",
       "      <td>0</td>\n",
       "    </tr>\n",
       "    <tr>\n",
       "      <th>4</th>\n",
       "      <td>I'm just saying every person is good looking i...</td>\n",
       "      <td>Hollywood</td>\n",
       "      <td>antisemitic</td>\n",
       "      <td>Informal</td>\n",
       "      <td>0</td>\n",
       "    </tr>\n",
       "    <tr>\n",
       "      <th>5</th>\n",
       "      <td>The only ones who will remember are those acti...</td>\n",
       "      <td>globalist</td>\n",
       "      <td>antisemitic</td>\n",
       "      <td>Informal</td>\n",
       "      <td>1</td>\n",
       "    </tr>\n",
       "    <tr>\n",
       "      <th>6</th>\n",
       "      <td>There's gonna be high demand for therapists th...</td>\n",
       "      <td>Soros</td>\n",
       "      <td>antisemitic</td>\n",
       "      <td>Informal</td>\n",
       "      <td>1</td>\n",
       "    </tr>\n",
       "    <tr>\n",
       "      <th>7</th>\n",
       "      <td>Younger conservatives have been exposed to not...</td>\n",
       "      <td>cuckservatives</td>\n",
       "      <td>white supremacist</td>\n",
       "      <td>Informal</td>\n",
       "      <td>1</td>\n",
       "    </tr>\n",
       "    <tr>\n",
       "      <th>8</th>\n",
       "      <td>In my view, any guy that's sticking around for...</td>\n",
       "      <td>single mom</td>\n",
       "      <td>racist</td>\n",
       "      <td>Informal</td>\n",
       "      <td>1</td>\n",
       "    </tr>\n",
       "    <tr>\n",
       "      <th>9</th>\n",
       "      <td>I forgot to note: Forgive any and all potentia...</td>\n",
       "      <td>single</td>\n",
       "      <td>homophobic</td>\n",
       "      <td>Informal</td>\n",
       "      <td>0</td>\n",
       "    </tr>\n",
       "  </tbody>\n",
       "</table>\n",
       "</div>"
      ],
      "text/plain": [
       "                                             content           dog_whistle  \\\n",
       "0  He doubles down, pays a 3rd party PR firm (NYT...          global cabal   \n",
       "1  We respectfully request that you vote no on an...  balancing the budget   \n",
       "2  Retreat would result in instability in the reg...         radical Islam   \n",
       "3  But, given the fact that Bernie will NEVER get...                  MAGA   \n",
       "4  I'm just saying every person is good looking i...             Hollywood   \n",
       "5  The only ones who will remember are those acti...             globalist   \n",
       "6  There's gonna be high demand for therapists th...                 Soros   \n",
       "7  Younger conservatives have been exposed to not...        cuckservatives   \n",
       "8  In my view, any guy that's sticking around for...            single mom   \n",
       "9  I forgot to note: Forgive any and all potentia...                single   \n",
       "\n",
       "             ingroup      type  label  \n",
       "0        antisemitic  Informal      1  \n",
       "1       conservative    Formal      1  \n",
       "2       Islamophobic    Formal      1  \n",
       "3  white supremacist  Informal      0  \n",
       "4        antisemitic  Informal      0  \n",
       "5        antisemitic  Informal      1  \n",
       "6        antisemitic  Informal      1  \n",
       "7  white supremacist  Informal      1  \n",
       "8             racist  Informal      1  \n",
       "9         homophobic  Informal      0  "
      ]
     },
     "execution_count": 14,
     "metadata": {},
     "output_type": "execute_result"
    }
   ],
   "source": [
    "df_resampled.head(10)"
   ]
  },
  {
   "cell_type": "code",
   "execution_count": 15,
   "metadata": {},
   "outputs": [
    {
     "data": {
      "image/png": "[encoded data removed]",
      "text/plain": [
       "<Figure size 1000x600 with 1 Axes>"
      ]
     },
     "metadata": {},
     "output_type": "display_data"
    }
   ],
   "source": [
    "fig, ax = plt.subplots(figsize=(10, 6))\n",
    "labels, counts = np.unique(df_resampled['ingroup'], return_counts=True)\n",
    "ticks = range(len(counts))\n",
    "ax.bar(ticks, counts, color='orange', alpha=0.5, align='center')\n",
    "ax.set_ylabel('Count')\n",
    "ax.set_yscale('log')\n",
    "ax.set_xticks(ticks, labels)\n",
    "ax.set_xticklabels(labels, rotation=45, ha='right')\n",
    "# fig.savefig(\"dataset_hist_ingroup.png\", dpi=250, bbox_inches='tight', pad_inches=0.1)\n",
    "plt.show()"
   ]
  },
  {
   "cell_type": "code",
   "execution_count": 16,
   "metadata": {},
   "outputs": [],
   "source": [
    "def resample(ds):\n",
    "    df = ds.to_pandas()\n",
    "    ros = RandomUnderSampler(random_state=42)\n",
    "    X_resampled, y_resampled = ros.fit_resample(df.drop(columns=['label']), df['label'])\n",
    "    df_resampled = pd.DataFrame(X_resampled)\n",
    "    df_resampled['label'] = y_resampled\n",
    "    df_resampled = df_resampled.sample(frac=1).reset_index(drop=True)\n",
    "    return Dataset.from_pandas(df_resampled)"
   ]
  },
  {
   "cell_type": "code",
   "execution_count": 17,
   "metadata": {},
   "outputs": [],
   "source": [
    "balanced_train = resample(ds['train'])"
   ]
  },
  {
   "cell_type": "code",
   "execution_count": 18,
   "metadata": {},
   "outputs": [],
   "source": [
    "balanced_test = resample(ds['test'])"
   ]
  },
  {
   "cell_type": "code",
   "execution_count": 19,
   "metadata": {},
   "outputs": [],
   "source": [
    "ds = DatasetDict({\n",
    "    'train': ds['train'],\n",
    "    'test': ds['test'],\n",
    "    'train_balanced': balanced_train,\n",
    "    'test_balanced': balanced_test,\n",
    "})"
   ]
  },
  {
   "cell_type": "code",
   "execution_count": 20,
   "metadata": {},
   "outputs": [
    {
     "name": "stdout",
     "output_type": "stream",
     "text": [
      "DatasetDict({\n",
      "    train: Dataset({\n",
      "        features: ['label', 'content', 'dog_whistle', 'ingroup', 'type'],\n",
      "        num_rows: 6352333\n",
      "    })\n",
      "    test: Dataset({\n",
      "        features: ['label', 'content', 'dog_whistle', 'ingroup', 'type'],\n",
      "        num_rows: 705815\n",
      "    })\n",
      "    train_balanced: Dataset({\n",
      "        features: ['content', 'dog_whistle', 'ingroup', 'type', 'label'],\n",
      "        num_rows: 28900\n",
      "    })\n",
      "    test_balanced: Dataset({\n",
      "        features: ['content', 'dog_whistle', 'ingroup', 'type', 'label'],\n",
      "        num_rows: 3240\n",
      "    })\n",
      "})\n"
     ]
    }
   ],
   "source": [
    "print(ds)"
   ]
  },
  {
   "cell_type": "markdown",
   "metadata": {},
   "source": [
    "### Upload dataset"
   ]
  },
  {
   "cell_type": "code",
   "execution_count": 21,
   "metadata": {},
   "outputs": [
    {
     "name": "stderr",
     "output_type": "stream",
     "text": [
      "Pushing split train to the Hub.\n"
     ]
    },
    {
     "data": {
      "application/vnd.jupyter.widget-view+json": {
       "model_id": "ce53f305edb84412a68ef1ee2fd3e605",
       "version_major": 2,
       "version_minor": 0
      },
      "text/plain": [
       "Pushing dataset shards to the dataset hub:   0%|          | 0/4 [00:00<?, ?it/s]"
      ]
     },
     "metadata": {},
     "output_type": "display_data"
    },
    {
     "data": {
      "application/vnd.jupyter.widget-view+json": {
       "model_id": "902da21147914f7799259e2571de20cd",
       "version_major": 2,
       "version_minor": 0
      },
      "text/plain": [
       "Creating parquet from Arrow format:   0%|          | 0/1589 [00:00<?, ?ba/s]"
      ]
     },
     "metadata": {},
     "output_type": "display_data"
    },
    {
     "data": {
      "application/vnd.jupyter.widget-view+json": {
       "model_id": "40a908bdc6164db48750aa2d6e905989",
       "version_major": 2,
       "version_minor": 0
      },
      "text/plain": [
       "Upload 1 LFS files:   0%|          | 0/1 [00:00<?, ?it/s]"
      ]
     },
     "metadata": {},
     "output_type": "display_data"
    },
    {
     "data": {
      "application/vnd.jupyter.widget-view+json": {
       "model_id": "f87ed7917269450cae38b4957523056b",
       "version_major": 2,
       "version_minor": 0
      },
      "text/plain": [
       "Creating parquet from Arrow format:   0%|          | 0/1589 [00:00<?, ?ba/s]"
      ]
     },
     "metadata": {},
     "output_type": "display_data"
    },
    {
     "data": {
      "application/vnd.jupyter.widget-view+json": {
       "model_id": "d028499b72f44a069ef01d5cb36b5374",
       "version_major": 2,
       "version_minor": 0
      },
      "text/plain": [
       "Upload 1 LFS files:   0%|          | 0/1 [00:00<?, ?it/s]"
      ]
     },
     "metadata": {},
     "output_type": "display_data"
    },
    {
     "data": {
      "application/vnd.jupyter.widget-view+json": {
       "model_id": "e4cb0c6fc7ba4d778eac35791ad1a1e9",
       "version_major": 2,
       "version_minor": 0
      },
      "text/plain": [
       "Creating parquet from Arrow format:   0%|          | 0/1589 [00:00<?, ?ba/s]"
      ]
     },
     "metadata": {},
     "output_type": "display_data"
    },
    {
     "data": {
      "application/vnd.jupyter.widget-view+json": {
       "model_id": "879c7da3595740f48f8f2d6c160248e6",
       "version_major": 2,
       "version_minor": 0
      },
      "text/plain": [
       "Upload 1 LFS files:   0%|          | 0/1 [00:00<?, ?it/s]"
      ]
     },
     "metadata": {},
     "output_type": "display_data"
    },
    {
     "data": {
      "application/vnd.jupyter.widget-view+json": {
       "model_id": "43cd0796502c4b169fb7af6ae7398abd",
       "version_major": 2,
       "version_minor": 0
      },
      "text/plain": [
       "Creating parquet from Arrow format:   0%|          | 0/1589 [00:00<?, ?ba/s]"
      ]
     },
     "metadata": {},
     "output_type": "display_data"
    },
    {
     "data": {
      "application/vnd.jupyter.widget-view+json": {
       "model_id": "b9466e9885484728ba1e7324ecf785fc",
       "version_major": 2,
       "version_minor": 0
      },
      "text/plain": [
       "Upload 1 LFS files:   0%|          | 0/1 [00:00<?, ?it/s]"
      ]
     },
     "metadata": {},
     "output_type": "display_data"
    },
    {
     "data": {
      "application/vnd.jupyter.widget-view+json": {
       "model_id": "019c3bc6dc7e47e8bec603cbd6fe70b7",
       "version_major": 2,
       "version_minor": 0
      },
      "text/plain": [
       "Deleting unused files from dataset repository:   0%|          | 0/5 [00:00<?, ?it/s]"
      ]
     },
     "metadata": {},
     "output_type": "display_data"
    },
    {
     "name": "stderr",
     "output_type": "stream",
     "text": [
      "Pushing split test to the Hub.\n"
     ]
    },
    {
     "data": {
      "application/vnd.jupyter.widget-view+json": {
       "model_id": "7cc39653dbe34868986389de22417287",
       "version_major": 2,
       "version_minor": 0
      },
      "text/plain": [
       "Pushing dataset shards to the dataset hub:   0%|          | 0/1 [00:00<?, ?it/s]"
      ]
     },
     "metadata": {},
     "output_type": "display_data"
    },
    {
     "data": {
      "application/vnd.jupyter.widget-view+json": {
       "model_id": "4ee2b0e7354040fe923669dccb5040c3",
       "version_major": 2,
       "version_minor": 0
      },
      "text/plain": [
       "Creating parquet from Arrow format:   0%|          | 0/706 [00:00<?, ?ba/s]"
      ]
     },
     "metadata": {},
     "output_type": "display_data"
    },
    {
     "data": {
      "application/vnd.jupyter.widget-view+json": {
       "model_id": "78e1290db9d94fbc9c1a869a61915abb",
       "version_major": 2,
       "version_minor": 0
      },
      "text/plain": [
       "Upload 1 LFS files:   0%|          | 0/1 [00:00<?, ?it/s]"
      ]
     },
     "metadata": {},
     "output_type": "display_data"
    },
    {
     "name": "stderr",
     "output_type": "stream",
     "text": [
      "Pushing split train_balanced to the Hub.\n"
     ]
    },
    {
     "data": {
      "application/vnd.jupyter.widget-view+json": {
       "model_id": "8bc6bdb795de419ebe0ff700306d559e",
       "version_major": 2,
       "version_minor": 0
      },
      "text/plain": [
       "Pushing dataset shards to the dataset hub:   0%|          | 0/1 [00:00<?, ?it/s]"
      ]
     },
     "metadata": {},
     "output_type": "display_data"
    },
    {
     "data": {
      "application/vnd.jupyter.widget-view+json": {
       "model_id": "e96ed49e08784d528ca22da7329dd78f",
       "version_major": 2,
       "version_minor": 0
      },
      "text/plain": [
       "Creating parquet from Arrow format:   0%|          | 0/29 [00:00<?, ?ba/s]"
      ]
     },
     "metadata": {},
     "output_type": "display_data"
    },
    {
     "data": {
      "application/vnd.jupyter.widget-view+json": {
       "model_id": "5c5fe24ac97048768f3217340a6c9761",
       "version_major": 2,
       "version_minor": 0
      },
      "text/plain": [
       "Upload 1 LFS files:   0%|          | 0/1 [00:00<?, ?it/s]"
      ]
     },
     "metadata": {},
     "output_type": "display_data"
    },
    {
     "name": "stderr",
     "output_type": "stream",
     "text": [
      "Pushing split test_balanced to the Hub.\n"
     ]
    },
    {
     "data": {
      "application/vnd.jupyter.widget-view+json": {
       "model_id": "38383ffb5a5a4435bed0e063fecf8296",
       "version_major": 2,
       "version_minor": 0
      },
      "text/plain": [
       "Pushing dataset shards to the dataset hub:   0%|          | 0/1 [00:00<?, ?it/s]"
      ]
     },
     "metadata": {},
     "output_type": "display_data"
    },
    {
     "data": {
      "application/vnd.jupyter.widget-view+json": {
       "model_id": "103c9a26bda24c3680624fe5c7b06f46",
       "version_major": 2,
       "version_minor": 0
      },
      "text/plain": [
       "Creating parquet from Arrow format:   0%|          | 0/4 [00:00<?, ?ba/s]"
      ]
     },
     "metadata": {},
     "output_type": "display_data"
    },
    {
     "data": {
      "application/vnd.jupyter.widget-view+json": {
       "model_id": "dfaba94d62ae439b81e54dfab2e87398",
       "version_major": 2,
       "version_minor": 0
      },
      "text/plain": [
       "Upload 1 LFS files:   0%|          | 0/1 [00:00<?, ?it/s]"
      ]
     },
     "metadata": {},
     "output_type": "display_data"
    }
   ],
   "source": [
    "ds.push_to_hub(\"AstroAure/dogwhistle_dataset\")"
   ]
  },
  {
   "cell_type": "markdown",
   "metadata": {},
   "source": [
    "## Update dataset - 2"
   ]
  },
  {
   "cell_type": "code",
   "execution_count": 2,
   "metadata": {},
   "outputs": [
    {
     "data": {
      "application/vnd.jupyter.widget-view+json": {
       "model_id": "d3ea422eb80f49e3b772d5839124e887",
       "version_major": 2,
       "version_minor": 0
      },
      "text/plain": [
       "Downloading readme:   0%|          | 0.00/3.21k [00:00<?, ?B/s]"
      ]
     },
     "metadata": {},
     "output_type": "display_data"
    },
    {
     "name": "stdout",
     "output_type": "stream",
     "text": [
      "Downloading and preparing dataset None/None to C:/Users/aurel/.cache/huggingface/datasets/AstroAure___parquet/AstroAure--dogwhistle_dataset-d749ea36d1238803/0.0.0/2a3b91fbd88a2c90d1dbbb32b460cf621d31bd5b05b934492fdef7d8d6f236ec...\n"
     ]
    },
    {
     "data": {
      "application/vnd.jupyter.widget-view+json": {
       "model_id": "67eec87543b04b598bc043d445156dbc",
       "version_major": 2,
       "version_minor": 0
      },
      "text/plain": [
       "Downloading data files:   0%|          | 0/4 [00:00<?, ?it/s]"
      ]
     },
     "metadata": {},
     "output_type": "display_data"
    },
    {
     "data": {
      "application/vnd.jupyter.widget-view+json": {
       "model_id": "037f8122258f480ba0e29e97384eb372",
       "version_major": 2,
       "version_minor": 0
      },
      "text/plain": [
       "Downloading data:   0%|          | 0.00/273M [00:00<?, ?B/s]"
      ]
     },
     "metadata": {},
     "output_type": "display_data"
    },
    {
     "data": {
      "application/vnd.jupyter.widget-view+json": {
       "model_id": "2f141e808e124b7cbf4a1d7a41f10667",
       "version_major": 2,
       "version_minor": 0
      },
      "text/plain": [
       "Downloading data:   0%|          | 0.00/273M [00:00<?, ?B/s]"
      ]
     },
     "metadata": {},
     "output_type": "display_data"
    },
    {
     "data": {
      "application/vnd.jupyter.widget-view+json": {
       "model_id": "95cd38171ffc46fd8b5dc03b0b88603c",
       "version_major": 2,
       "version_minor": 0
      },
      "text/plain": [
       "Downloading data:   0%|          | 0.00/273M [00:00<?, ?B/s]"
      ]
     },
     "metadata": {},
     "output_type": "display_data"
    },
    {
     "data": {
      "application/vnd.jupyter.widget-view+json": {
       "model_id": "e7669ae0962440069c2a16d76e3f1b1d",
       "version_major": 2,
       "version_minor": 0
      },
      "text/plain": [
       "Downloading data:   0%|          | 0.00/272M [00:00<?, ?B/s]"
      ]
     },
     "metadata": {},
     "output_type": "display_data"
    },
    {
     "data": {
      "application/vnd.jupyter.widget-view+json": {
       "model_id": "be164bdfc6664c97af8b545aabfbe677",
       "version_major": 2,
       "version_minor": 0
      },
      "text/plain": [
       "Downloading data:   0%|          | 0.00/121M [00:00<?, ?B/s]"
      ]
     },
     "metadata": {},
     "output_type": "display_data"
    },
    {
     "data": {
      "application/vnd.jupyter.widget-view+json": {
       "model_id": "1389a625870a4558b478b76571538eca",
       "version_major": 2,
       "version_minor": 0
      },
      "text/plain": [
       "Downloading data:   0%|          | 0.00/565k [00:00<?, ?B/s]"
      ]
     },
     "metadata": {},
     "output_type": "display_data"
    },
    {
     "data": {
      "application/vnd.jupyter.widget-view+json": {
       "model_id": "36aa2905c44a44cfa553b20ee9718a35",
       "version_major": 2,
       "version_minor": 0
      },
      "text/plain": [
       "Downloading data:   0%|          | 0.00/4.80M [00:00<?, ?B/s]"
      ]
     },
     "metadata": {},
     "output_type": "display_data"
    },
    {
     "data": {
      "application/vnd.jupyter.widget-view+json": {
       "model_id": "200b8a7cd1284254bb4614bc24d06211",
       "version_major": 2,
       "version_minor": 0
      },
      "text/plain": [
       "Extracting data files:   0%|          | 0/4 [00:00<?, ?it/s]"
      ]
     },
     "metadata": {},
     "output_type": "display_data"
    },
    {
     "data": {
      "application/vnd.jupyter.widget-view+json": {
       "model_id": "fcc55d41c32d4330a73a1029a3c07933",
       "version_major": 2,
       "version_minor": 0
      },
      "text/plain": [
       "Generating train split:   0%|          | 0/6352333 [00:00<?, ? examples/s]"
      ]
     },
     "metadata": {},
     "output_type": "display_data"
    },
    {
     "data": {
      "application/vnd.jupyter.widget-view+json": {
       "model_id": "8f4938877ba344a08871ac57b85fa8a9",
       "version_major": 2,
       "version_minor": 0
      },
      "text/plain": [
       "Generating test split:   0%|          | 0/705815 [00:00<?, ? examples/s]"
      ]
     },
     "metadata": {},
     "output_type": "display_data"
    },
    {
     "data": {
      "application/vnd.jupyter.widget-view+json": {
       "model_id": "ae1e2c69a5f84a25a7a01264e22dc51f",
       "version_major": 2,
       "version_minor": 0
      },
      "text/plain": [
       "Generating test_balanced split:   0%|          | 0/3240 [00:00<?, ? examples/s]"
      ]
     },
     "metadata": {},
     "output_type": "display_data"
    },
    {
     "data": {
      "application/vnd.jupyter.widget-view+json": {
       "model_id": "2f00b4193153449baa8479aadbcd5945",
       "version_major": 2,
       "version_minor": 0
      },
      "text/plain": [
       "Generating train_balanced split:   0%|          | 0/28900 [00:00<?, ? examples/s]"
      ]
     },
     "metadata": {},
     "output_type": "display_data"
    },
    {
     "name": "stdout",
     "output_type": "stream",
     "text": [
      "Dataset parquet downloaded and prepared to C:/Users/aurel/.cache/huggingface/datasets/AstroAure___parquet/AstroAure--dogwhistle_dataset-d749ea36d1238803/0.0.0/2a3b91fbd88a2c90d1dbbb32b460cf621d31bd5b05b934492fdef7d8d6f236ec. Subsequent calls will reuse this data.\n"
     ]
    },
    {
     "data": {
      "application/vnd.jupyter.widget-view+json": {
       "model_id": "4acbd68a037e4450b9a775def9bc2410",
       "version_major": 2,
       "version_minor": 0
      },
      "text/plain": [
       "  0%|          | 0/4 [00:00<?, ?it/s]"
      ]
     },
     "metadata": {},
     "output_type": "display_data"
    }
   ],
   "source": [
    "ds = load_dataset(\"AstroAure/dogwhistle_dataset\")"
   ]
  },
  {
   "cell_type": "code",
   "execution_count": 3,
   "metadata": {},
   "outputs": [
    {
     "data": {
      "text/html": [
       "<div>\n",
       "<style scoped>\n",
       "    .dataframe tbody tr th:only-of-type {\n",
       "        vertical-align: middle;\n",
       "    }\n",
       "\n",
       "    .dataframe tbody tr th {\n",
       "        vertical-align: top;\n",
       "    }\n",
       "\n",
       "    .dataframe thead th {\n",
       "        text-align: right;\n",
       "    }\n",
       "</style>\n",
       "<table border=\"1\" class=\"dataframe\">\n",
       "  <thead>\n",
       "    <tr style=\"text-align: right;\">\n",
       "      <th></th>\n",
       "      <th>label</th>\n",
       "      <th>content</th>\n",
       "      <th>dog_whistle</th>\n",
       "      <th>ingroup</th>\n",
       "      <th>type</th>\n",
       "    </tr>\n",
       "  </thead>\n",
       "  <tbody>\n",
       "    <tr>\n",
       "      <th>0</th>\n",
       "      <td>1</td>\n",
       "      <td>Although I believe we must be extremely carefu...</td>\n",
       "      <td>institution of marriage</td>\n",
       "      <td>homophobic</td>\n",
       "      <td>Formal</td>\n",
       "    </tr>\n",
       "    <tr>\n",
       "      <th>1</th>\n",
       "      <td>1</td>\n",
       "      <td>Good. Swedish cuckolds are an infestation on s...</td>\n",
       "      <td>cuckolds</td>\n",
       "      <td>white supremacist</td>\n",
       "      <td>Informal</td>\n",
       "    </tr>\n",
       "    <tr>\n",
       "      <th>2</th>\n",
       "      <td>0</td>\n",
       "      <td>Ah, gotcha, you're not an SJW, just didn't lik...</td>\n",
       "      <td>SJW</td>\n",
       "      <td>anti-liberal</td>\n",
       "      <td>Informal</td>\n",
       "    </tr>\n",
       "    <tr>\n",
       "      <th>3</th>\n",
       "      <td>0</td>\n",
       "      <td>It is currently fashionable to say that all of...</td>\n",
       "      <td>special interest</td>\n",
       "      <td>antisemitic</td>\n",
       "      <td>Formal</td>\n",
       "    </tr>\n",
       "    <tr>\n",
       "      <th>4</th>\n",
       "      <td>0</td>\n",
       "      <td>You may be aware that corporate logos hint at ...</td>\n",
       "      <td>cabal</td>\n",
       "      <td>antisemitic</td>\n",
       "      <td>Informal</td>\n",
       "    </tr>\n",
       "    <tr>\n",
       "      <th>5</th>\n",
       "      <td>1</td>\n",
       "      <td>as we grow energy sources that are American pr...</td>\n",
       "      <td>working families</td>\n",
       "      <td>racist</td>\n",
       "      <td>Formal</td>\n",
       "    </tr>\n",
       "    <tr>\n",
       "      <th>6</th>\n",
       "      <td>1</td>\n",
       "      <td>Even if it were possible to alter every cell o...</td>\n",
       "      <td>male socialization</td>\n",
       "      <td>transphobic</td>\n",
       "      <td>Informal</td>\n",
       "    </tr>\n",
       "    <tr>\n",
       "      <th>7</th>\n",
       "      <td>1</td>\n",
       "      <td>I think he'll probably be dropped by sponsors ...</td>\n",
       "      <td>SJW</td>\n",
       "      <td>anti-liberal</td>\n",
       "      <td>Informal</td>\n",
       "    </tr>\n",
       "    <tr>\n",
       "      <th>8</th>\n",
       "      <td>1</td>\n",
       "      <td>Thank you for your support fellow centipede an...</td>\n",
       "      <td>centipede</td>\n",
       "      <td>white supremacist</td>\n",
       "      <td>Informal</td>\n",
       "    </tr>\n",
       "    <tr>\n",
       "      <th>9</th>\n",
       "      <td>0</td>\n",
       "      <td>Many special interests have been indignant bec...</td>\n",
       "      <td>special interest</td>\n",
       "      <td>antisemitic</td>\n",
       "      <td>Formal</td>\n",
       "    </tr>\n",
       "  </tbody>\n",
       "</table>\n",
       "</div>"
      ],
      "text/plain": [
       "   label                                            content  \\\n",
       "0      1  Although I believe we must be extremely carefu...   \n",
       "1      1  Good. Swedish cuckolds are an infestation on s...   \n",
       "2      0  Ah, gotcha, you're not an SJW, just didn't lik...   \n",
       "3      0  It is currently fashionable to say that all of...   \n",
       "4      0  You may be aware that corporate logos hint at ...   \n",
       "5      1  as we grow energy sources that are American pr...   \n",
       "6      1  Even if it were possible to alter every cell o...   \n",
       "7      1  I think he'll probably be dropped by sponsors ...   \n",
       "8      1  Thank you for your support fellow centipede an...   \n",
       "9      0  Many special interests have been indignant bec...   \n",
       "\n",
       "               dog_whistle            ingroup      type  \n",
       "0  institution of marriage         homophobic    Formal  \n",
       "1                 cuckolds  white supremacist  Informal  \n",
       "2                      SJW       anti-liberal  Informal  \n",
       "3         special interest        antisemitic    Formal  \n",
       "4                    cabal        antisemitic  Informal  \n",
       "5         working families             racist    Formal  \n",
       "6       male socialization        transphobic  Informal  \n",
       "7                      SJW       anti-liberal  Informal  \n",
       "8                centipede  white supremacist  Informal  \n",
       "9         special interest        antisemitic    Formal  "
      ]
     },
     "execution_count": 3,
     "metadata": {},
     "output_type": "execute_result"
    }
   ],
   "source": [
    "df = ds['train_balanced'].to_pandas()\n",
    "df.head(10)"
   ]
  },
  {
   "cell_type": "markdown",
   "metadata": {},
   "source": [
    "### Hide some dogwhistles"
   ]
  },
  {
   "cell_type": "code",
   "execution_count": 4,
   "metadata": {},
   "outputs": [
    {
     "data": {
      "image/png": "[encoded data removed]",
      "text/plain": [
       "<Figure size 1200x400 with 1 Axes>"
      ]
     },
     "metadata": {},
     "output_type": "display_data"
    }
   ],
   "source": [
    "dogwhistle, count = np.unique(df['dog_whistle'][np.where(df['ingroup']=='racist')[0]], return_counts=True)\n",
    "\n",
    "fig, ax = plt.subplots(figsize=(12, 4))\n",
    "ax.bar(dogwhistle, count, color='orange', alpha=0.5, align='center')\n",
    "ax.set_ylabel('Count')\n",
    "ax.set_yscale('log')\n",
    "ax.set_xticks(dogwhistle, dogwhistle)\n",
    "ax.set_xticklabels(dogwhistle, rotation=45, ha='right')\n",
    "plt.show()"
   ]
  },
  {
   "cell_type": "code",
   "execution_count": 5,
   "metadata": {},
   "outputs": [
    {
     "name": "stdout",
     "output_type": "stream",
     "text": [
      "34 of 696 dog whistles hidden\n",
      "['identitarians' 'family values' 'octopus' 'illegal immigrant'\n",
      " 'rootless cosmopolitans' 'womxn' 'gender-critical feminism' 'genderists'\n",
      " 'Kekistan' 'fatherless' 'biological realist' 'Trilateral Commission'\n",
      " 'judicial activists' 'neolibs' 'pilpul' '#alllivesmatter' 'goyim'\n",
      " 'public school' 'welfare cheats' 'deadbeats' 'physical removal' '41'\n",
      " 'global elite' 'genderfree' 'Hollywood elites' 'Reagan' 'China Virus'\n",
      " 'inner cities' 'shekels' 'protect women and girls' 'broken family' 'blue'\n",
      " 'dindu' 'Skittle']\n",
      "1260/28900 (4.36%) removed\n"
     ]
    }
   ],
   "source": [
    "dogwhistle = np.unique(df['dog_whistle'])\n",
    "np.random.seed(88)\n",
    "dogwhistle_hide = np.random.choice(dogwhistle, int(0.05*len(dogwhistle)), replace=False)\n",
    "print(f\"{len(dogwhistle_hide)} of {len(dogwhistle)} dog whistles hidden\")\n",
    "print(dogwhistle_hide)\n",
    "print(f\"{np.isin(df['dog_whistle'], dogwhistle_hide).sum()}/{len(df)} ({np.isin(df['dog_whistle'], dogwhistle_hide).sum()/len(df):.2%}) removed\")"
   ]
  },
  {
   "cell_type": "code",
   "execution_count": 6,
   "metadata": {},
   "outputs": [
    {
     "data": {
      "text/plain": [
       "(27640, 3111)"
      ]
     },
     "execution_count": 6,
     "metadata": {},
     "output_type": "execute_result"
    }
   ],
   "source": [
    "df_hidden_train = df[~np.isin(df['dog_whistle'], dogwhistle_hide)]\n",
    "df_hidden_train = df_hidden_train.sample(frac=1).reset_index(drop=True)\n",
    "\n",
    "df_test = ds['test_balanced'].to_pandas()\n",
    "df_hidden_test = df_test[~np.isin(df_test['dog_whistle'], dogwhistle_hide)]\n",
    "df_hidden_test = df_hidden_test.sample(frac=1).reset_index(drop=True)\n",
    "\n",
    "len(df_hidden_train), len(df_hidden_test)"
   ]
  },
  {
   "cell_type": "code",
   "execution_count": 7,
   "metadata": {},
   "outputs": [
    {
     "data": {
      "text/plain": [
       "DatasetDict({\n",
       "    train_hidden: Dataset({\n",
       "        features: ['label', 'content', 'dog_whistle', 'ingroup', 'type'],\n",
       "        num_rows: 27640\n",
       "    })\n",
       "    test_hidden: Dataset({\n",
       "        features: ['label', 'content', 'dog_whistle', 'ingroup', 'type'],\n",
       "        num_rows: 3111\n",
       "    })\n",
       "})"
      ]
     },
     "execution_count": 7,
     "metadata": {},
     "output_type": "execute_result"
    }
   ],
   "source": [
    "ds_hidden = DatasetDict({\n",
    "    'train_hidden': Dataset.from_pandas(df_hidden_train),\n",
    "    'test_hidden': Dataset.from_pandas(df_hidden_test),\n",
    "})\n",
    "ds_hidden"
   ]
  },
  {
   "cell_type": "markdown",
   "metadata": {},
   "source": [
    "### Balance ingroups"
   ]
  },
  {
   "cell_type": "code",
   "execution_count": 8,
   "metadata": {},
   "outputs": [],
   "source": [
    "df = pd.concat([ds_hidden['train_hidden'].to_pandas(), ds_hidden['test_hidden'].to_pandas()], ignore_index=True)"
   ]
  },
  {
   "cell_type": "code",
   "execution_count": 9,
   "metadata": {},
   "outputs": [
    {
     "data": {
      "text/html": [
       "<div>\n",
       "<style scoped>\n",
       "    .dataframe tbody tr th:only-of-type {\n",
       "        vertical-align: middle;\n",
       "    }\n",
       "\n",
       "    .dataframe tbody tr th {\n",
       "        vertical-align: top;\n",
       "    }\n",
       "\n",
       "    .dataframe thead th {\n",
       "        text-align: right;\n",
       "    }\n",
       "</style>\n",
       "<table border=\"1\" class=\"dataframe\">\n",
       "  <thead>\n",
       "    <tr style=\"text-align: right;\">\n",
       "      <th></th>\n",
       "      <th>label</th>\n",
       "      <th>content</th>\n",
       "      <th>dog_whistle</th>\n",
       "      <th>ingroup</th>\n",
       "      <th>type</th>\n",
       "    </tr>\n",
       "  </thead>\n",
       "  <tbody>\n",
       "    <tr>\n",
       "      <th>0</th>\n",
       "      <td>0</td>\n",
       "      <td>Same here. I've mostly stopped watching Last W...</td>\n",
       "      <td>political correctness</td>\n",
       "      <td>racist</td>\n",
       "      <td>Informal</td>\n",
       "    </tr>\n",
       "    <tr>\n",
       "      <th>1</th>\n",
       "      <td>0</td>\n",
       "      <td>This has a lot to do with censorship. From wha...</td>\n",
       "      <td>MAGA</td>\n",
       "      <td>white supremacist</td>\n",
       "      <td>Informal</td>\n",
       "    </tr>\n",
       "    <tr>\n",
       "      <th>2</th>\n",
       "      <td>0</td>\n",
       "      <td>I also wanted grooming that acknowledged my re...</td>\n",
       "      <td>grooming</td>\n",
       "      <td>anti-LGBTQ</td>\n",
       "      <td>Informal</td>\n",
       "    </tr>\n",
       "    <tr>\n",
       "      <th>3</th>\n",
       "      <td>1</td>\n",
       "      <td>Actually it’s amazing that 5% went to anything...</td>\n",
       "      <td>global cabal</td>\n",
       "      <td>antisemitic</td>\n",
       "      <td>Informal</td>\n",
       "    </tr>\n",
       "    <tr>\n",
       "      <th>4</th>\n",
       "      <td>0</td>\n",
       "      <td>Oh they are the biggest sham! There was a fuck...</td>\n",
       "      <td>voter fraud</td>\n",
       "      <td>racist</td>\n",
       "      <td>Informal</td>\n",
       "    </tr>\n",
       "    <tr>\n",
       "      <th>5</th>\n",
       "      <td>0</td>\n",
       "      <td>&amp;gt; 28% of women were classified as having AG...</td>\n",
       "      <td>based</td>\n",
       "      <td>white supremacist</td>\n",
       "      <td>Informal</td>\n",
       "    </tr>\n",
       "    <tr>\n",
       "      <th>6</th>\n",
       "      <td>1</td>\n",
       "      <td>that was one of the reasons he wasn’t on the n...</td>\n",
       "      <td>based</td>\n",
       "      <td>white supremacist</td>\n",
       "      <td>Informal</td>\n",
       "    </tr>\n",
       "    <tr>\n",
       "      <th>7</th>\n",
       "      <td>0</td>\n",
       "      <td>Pedes spread this image like your lives depend...</td>\n",
       "      <td>pedes</td>\n",
       "      <td>white supremacist</td>\n",
       "      <td>Informal</td>\n",
       "    </tr>\n",
       "    <tr>\n",
       "      <th>8</th>\n",
       "      <td>0</td>\n",
       "      <td>He also got food stamps because taking 12 hour...</td>\n",
       "      <td>food stamp</td>\n",
       "      <td>racist</td>\n",
       "      <td>Informal</td>\n",
       "    </tr>\n",
       "    <tr>\n",
       "      <th>9</th>\n",
       "      <td>0</td>\n",
       "      <td>I'm on my way transforming from beta white kni...</td>\n",
       "      <td>beta</td>\n",
       "      <td>white supremacist</td>\n",
       "      <td>Informal</td>\n",
       "    </tr>\n",
       "  </tbody>\n",
       "</table>\n",
       "</div>"
      ],
      "text/plain": [
       "   label                                            content  \\\n",
       "0      0  Same here. I've mostly stopped watching Last W...   \n",
       "1      0  This has a lot to do with censorship. From wha...   \n",
       "2      0  I also wanted grooming that acknowledged my re...   \n",
       "3      1  Actually it’s amazing that 5% went to anything...   \n",
       "4      0  Oh they are the biggest sham! There was a fuck...   \n",
       "5      0  &gt; 28% of women were classified as having AG...   \n",
       "6      1  that was one of the reasons he wasn’t on the n...   \n",
       "7      0  Pedes spread this image like your lives depend...   \n",
       "8      0  He also got food stamps because taking 12 hour...   \n",
       "9      0  I'm on my way transforming from beta white kni...   \n",
       "\n",
       "             dog_whistle            ingroup      type  \n",
       "0  political correctness             racist  Informal  \n",
       "1                   MAGA  white supremacist  Informal  \n",
       "2               grooming         anti-LGBTQ  Informal  \n",
       "3           global cabal        antisemitic  Informal  \n",
       "4            voter fraud             racist  Informal  \n",
       "5                  based  white supremacist  Informal  \n",
       "6                  based  white supremacist  Informal  \n",
       "7                  pedes  white supremacist  Informal  \n",
       "8             food stamp             racist  Informal  \n",
       "9                   beta  white supremacist  Informal  "
      ]
     },
     "execution_count": 9,
     "metadata": {},
     "output_type": "execute_result"
    }
   ],
   "source": [
    "df.head(10)"
   ]
  },
  {
   "cell_type": "code",
   "execution_count": 10,
   "metadata": {},
   "outputs": [
    {
     "data": {
      "image/png": "[encoded data removed]",
      "text/plain": [
       "<Figure size 1000x600 with 1 Axes>"
      ]
     },
     "metadata": {},
     "output_type": "display_data"
    }
   ],
   "source": [
    "fig, ax = plt.subplots(figsize=(10, 6))\n",
    "ingroup, count = np.unique(df['ingroup'], return_counts=True)\n",
    "ax.bar(ingroup, count, color='orange', alpha=0.5, align='center')\n",
    "ax.set_ylabel('Count')\n",
    "ax.set_yscale('log')\n",
    "ax.set_ylim(1, 1.2*max(count))\n",
    "ax.set_xticks(ingroup, ingroup)\n",
    "ax.set_xticklabels(ingroup, rotation=45, ha='right')\n",
    "plt.show()"
   ]
  },
  {
   "cell_type": "code",
   "execution_count": 11,
   "metadata": {},
   "outputs": [],
   "source": [
    "# Remove 'misogynistic' because not enough\n",
    "df = df[df['ingroup'] != 'misogynistic']\n",
    "df = df.sample(frac=1).reset_index(drop=True)"
   ]
  },
  {
   "cell_type": "code",
   "execution_count": 12,
   "metadata": {},
   "outputs": [
    {
     "name": "stdout",
     "output_type": "stream",
     "text": [
      "ingroup\n",
      "racist                   8969\n",
      "white supremacist        5449\n",
      "antisemitic              3810\n",
      "transphobic              2970\n",
      "anti-liberal             2565\n",
      "Islamophobic             2072\n",
      "homophobic               1798\n",
      "anti-Latino              1034\n",
      "conservative              913\n",
      "climate change denier     217\n",
      "anti-vax                  178\n",
      "anti-LGBTQ                160\n",
      "liberal                   151\n",
      "anti-GMO                  136\n",
      "anti-Asian                115\n",
      "xenophobic                106\n",
      "religious                  98\n",
      "Name: count, dtype: int64\n"
     ]
    }
   ],
   "source": [
    "ingroup_counts = df['ingroup'].value_counts()\n",
    "print(ingroup_counts)"
   ]
  },
  {
   "cell_type": "code",
   "execution_count": 13,
   "metadata": {},
   "outputs": [],
   "source": [
    "df_lower = df[np.isin(df['ingroup'], ingroup_counts[np.where(ingroup_counts < 2000)[0]].index.tolist())]\n",
    "df_lower = df_lower.sample(frac=1).reset_index(drop=True)\n",
    "\n",
    "df_upper = df[np.isin(df['ingroup'], ingroup_counts[np.where(ingroup_counts >= 2000)[0]].index.tolist())]\n",
    "df_upper = df_upper.sample(frac=1).reset_index(drop=True)"
   ]
  },
  {
   "cell_type": "code",
   "execution_count": 14,
   "metadata": {},
   "outputs": [
    {
     "data": {
      "text/html": [
       "<div>\n",
       "<style scoped>\n",
       "    .dataframe tbody tr th:only-of-type {\n",
       "        vertical-align: middle;\n",
       "    }\n",
       "\n",
       "    .dataframe tbody tr th {\n",
       "        vertical-align: top;\n",
       "    }\n",
       "\n",
       "    .dataframe thead th {\n",
       "        text-align: right;\n",
       "    }\n",
       "</style>\n",
       "<table border=\"1\" class=\"dataframe\">\n",
       "  <thead>\n",
       "    <tr style=\"text-align: right;\">\n",
       "      <th></th>\n",
       "      <th>label</th>\n",
       "      <th>content</th>\n",
       "      <th>dog_whistle</th>\n",
       "      <th>ingroup</th>\n",
       "      <th>type</th>\n",
       "    </tr>\n",
       "  </thead>\n",
       "  <tbody>\n",
       "    <tr>\n",
       "      <th>0</th>\n",
       "      <td>0</td>\n",
       "      <td>IMO it's best to hang out with them as long as...</td>\n",
       "      <td>Pajeet</td>\n",
       "      <td>anti-Asian</td>\n",
       "      <td>Informal</td>\n",
       "    </tr>\n",
       "    <tr>\n",
       "      <th>1</th>\n",
       "      <td>1</td>\n",
       "      <td>When police pull over a black male, or encount...</td>\n",
       "      <td>implicit bias</td>\n",
       "      <td>liberal</td>\n",
       "      <td>Informal</td>\n",
       "    </tr>\n",
       "    <tr>\n",
       "      <th>2</th>\n",
       "      <td>0</td>\n",
       "      <td>Prior to America's \"intervention\" of Afghanist...</td>\n",
       "      <td>single</td>\n",
       "      <td>homophobic</td>\n",
       "      <td>Informal</td>\n",
       "    </tr>\n",
       "    <tr>\n",
       "      <th>3</th>\n",
       "      <td>1</td>\n",
       "      <td>The results of this are really quite devastati...</td>\n",
       "      <td>illegal alien</td>\n",
       "      <td>anti-Latino</td>\n",
       "      <td>Formal</td>\n",
       "    </tr>\n",
       "    <tr>\n",
       "      <th>4</th>\n",
       "      <td>0</td>\n",
       "      <td>I can't imagine that even a single Supreme Cou...</td>\n",
       "      <td>single</td>\n",
       "      <td>homophobic</td>\n",
       "      <td>Informal</td>\n",
       "    </tr>\n",
       "    <tr>\n",
       "      <th>...</th>\n",
       "      <td>...</td>\n",
       "      <td>...</td>\n",
       "      <td>...</td>\n",
       "      <td>...</td>\n",
       "      <td>...</td>\n",
       "    </tr>\n",
       "    <tr>\n",
       "      <th>4901</th>\n",
       "      <td>1</td>\n",
       "      <td>But we had promised the American people we wou...</td>\n",
       "      <td>balance the budget</td>\n",
       "      <td>conservative</td>\n",
       "      <td>Formal</td>\n",
       "    </tr>\n",
       "    <tr>\n",
       "      <th>4902</th>\n",
       "      <td>0</td>\n",
       "      <td>Definitely there is FOB style. I've had FOBs j...</td>\n",
       "      <td>single</td>\n",
       "      <td>homophobic</td>\n",
       "      <td>Informal</td>\n",
       "    </tr>\n",
       "    <tr>\n",
       "      <th>4903</th>\n",
       "      <td>1</td>\n",
       "      <td>AoC says the world will end in 12 years unless...</td>\n",
       "      <td>climate alarmists</td>\n",
       "      <td>climate change denier</td>\n",
       "      <td>Informal</td>\n",
       "    </tr>\n",
       "    <tr>\n",
       "      <th>4904</th>\n",
       "      <td>0</td>\n",
       "      <td>Please seek higher education; send me the cost...</td>\n",
       "      <td>send me</td>\n",
       "      <td>religious</td>\n",
       "      <td>Informal</td>\n",
       "    </tr>\n",
       "    <tr>\n",
       "      <th>4905</th>\n",
       "      <td>0</td>\n",
       "      <td>I got neoliberal as well. That means market ca...</td>\n",
       "      <td>neoliberal</td>\n",
       "      <td>liberal</td>\n",
       "      <td>Informal</td>\n",
       "    </tr>\n",
       "  </tbody>\n",
       "</table>\n",
       "<p>4906 rows × 5 columns</p>\n",
       "</div>"
      ],
      "text/plain": [
       "      label                                            content  \\\n",
       "0         0  IMO it's best to hang out with them as long as...   \n",
       "1         1  When police pull over a black male, or encount...   \n",
       "2         0  Prior to America's \"intervention\" of Afghanist...   \n",
       "3         1  The results of this are really quite devastati...   \n",
       "4         0  I can't imagine that even a single Supreme Cou...   \n",
       "...     ...                                                ...   \n",
       "4901      1  But we had promised the American people we wou...   \n",
       "4902      0  Definitely there is FOB style. I've had FOBs j...   \n",
       "4903      1  AoC says the world will end in 12 years unless...   \n",
       "4904      0  Please seek higher education; send me the cost...   \n",
       "4905      0  I got neoliberal as well. That means market ca...   \n",
       "\n",
       "             dog_whistle                ingroup      type  \n",
       "0                 Pajeet             anti-Asian  Informal  \n",
       "1          implicit bias                liberal  Informal  \n",
       "2                 single             homophobic  Informal  \n",
       "3          illegal alien            anti-Latino    Formal  \n",
       "4                 single             homophobic  Informal  \n",
       "...                  ...                    ...       ...  \n",
       "4901  balance the budget           conservative    Formal  \n",
       "4902              single             homophobic  Informal  \n",
       "4903   climate alarmists  climate change denier  Informal  \n",
       "4904             send me              religious  Informal  \n",
       "4905          neoliberal                liberal  Informal  \n",
       "\n",
       "[4906 rows x 5 columns]"
      ]
     },
     "execution_count": 14,
     "metadata": {},
     "output_type": "execute_result"
    }
   ],
   "source": [
    "df_lower"
   ]
  },
  {
   "cell_type": "code",
   "execution_count": 15,
   "metadata": {},
   "outputs": [],
   "source": [
    "ros = RandomUnderSampler(random_state=42)\n",
    "X_resampled, y_resampled = ros.fit_resample(df_upper.drop(columns=['ingroup']), df_upper['ingroup'])\n",
    "df_upper_resampled = pd.DataFrame(X_resampled)\n",
    "df_upper_resampled['ingroup'] = y_resampled\n",
    "df_upper_resampled = df_upper_resampled.sample(frac=1).reset_index(drop=True)\n",
    "\n",
    "ros = RandomOverSampler(random_state=42)\n",
    "X_resampled, y_resampled = ros.fit_resample(df_lower.drop(columns=['ingroup']), df_lower['ingroup'])\n",
    "df_lower_resampled = pd.DataFrame(X_resampled)\n",
    "df_lower_resampled['ingroup'] = y_resampled\n",
    "df_lower_resampled = df_lower_resampled.sample(frac=1).reset_index(drop=True)"
   ]
  },
  {
   "cell_type": "code",
   "execution_count": 16,
   "metadata": {},
   "outputs": [],
   "source": [
    "df = pd.concat([df_upper_resampled, df_lower_resampled], ignore_index=True)\n",
    "df = df.sample(frac=1).reset_index(drop=True)\n",
    "\n",
    "ros = RandomOverSampler(random_state=42)\n",
    "X_resampled, y_resampled = ros.fit_resample(df.drop(columns=['ingroup']), df['ingroup'])\n",
    "df_resampled = pd.DataFrame(X_resampled)\n",
    "df_resampled['ingroup'] = y_resampled\n",
    "df_resampled = df_resampled.sample(frac=1).reset_index(drop=True)\n",
    "\n",
    "ros = RandomOverSampler(random_state=42)\n",
    "X_resampled, y_resampled = ros.fit_resample(df.drop(columns=['label']), df['label'])\n",
    "df_resampled = pd.DataFrame(X_resampled)\n",
    "df_resampled['label'] = y_resampled\n",
    "df_resampled = df_resampled.sample(frac=1).reset_index(drop=True)"
   ]
  },
  {
   "cell_type": "code",
   "execution_count": 17,
   "metadata": {},
   "outputs": [
    {
     "data": {
      "image/png": "[encoded data removed]",
      "text/plain": [
       "<Figure size 1000x600 with 1 Axes>"
      ]
     },
     "metadata": {},
     "output_type": "display_data"
    }
   ],
   "source": [
    "fig, ax = plt.subplots(figsize=(10, 6))\n",
    "ingroup, count = np.unique(df_resampled['ingroup'], return_counts=True)\n",
    "ax.bar(ingroup, count, color='orange', alpha=0.5, align='center')\n",
    "ax.set_ylabel('Count')\n",
    "ax.set_ylim(0, 1.2*max(count))\n",
    "ax.set_xticks(ingroup, ingroup)\n",
    "ax.set_xticklabels(ingroup, rotation=45, ha='right')\n",
    "fig.savefig(\"dataset-bhr_hist_ingroup.png\", dpi=250, bbox_inches='tight', pad_inches=0.1)\n",
    "plt.show()"
   ]
  },
  {
   "cell_type": "code",
   "execution_count": 18,
   "metadata": {},
   "outputs": [
    {
     "data": {
      "image/png": "[encoded data removed]",
      "text/plain": [
       "<Figure size 600x600 with 1 Axes>"
      ]
     },
     "metadata": {},
     "output_type": "display_data"
    }
   ],
   "source": [
    "fig, ax = plt.subplots(figsize=(6,6))\n",
    "n, bins, patches = ax.hist(df_resampled['label'], range=(-0.5,1.5), bins=2, alpha=0.5, rwidth=0.5)\n",
    "patches[0].set_facecolor('red')\n",
    "patches[1].set_facecolor('blue')\n",
    "ax.set_xticks([0, 1], labels=['Not Dog Whistle', 'Dog Whistle'])\n",
    "ax.set_xlim(-0.5, 1.5)\n",
    "# ax.set_yscale('log')\n",
    "ax.set_ylabel('Count')\n",
    "fig.savefig(\"dataset-bhr_hist_label.png\", dpi=250, bbox_inches='tight', pad_inches=0.1)\n",
    "plt.show()"
   ]
  },
  {
   "cell_type": "code",
   "execution_count": 19,
   "metadata": {},
   "outputs": [
    {
     "data": {
      "image/png": "[encoded data removed]",
      "text/plain": [
       "<Figure size 600x600 with 1 Axes>"
      ]
     },
     "metadata": {},
     "output_type": "display_data"
    }
   ],
   "source": [
    "fig, ax = plt.subplots(figsize=(6, 6))\n",
    "n, bins, patches = ax.hist(df_resampled['type'], range=(-0.5,1.5), bins=2, alpha=0.5, rwidth=0.5)\n",
    "patches[0].set_facecolor('orange')\n",
    "patches[1].set_facecolor('purple')\n",
    "ax.set_xticks([0, 1], labels=['Informal', 'Formal'])\n",
    "ax.set_xlim(-0.5, 1.5)\n",
    "# ax.set_yscale('log')\n",
    "ax.set_ylabel('Count')\n",
    "fig.savefig(\"dataset-bhr_hist_type.png\", dpi=250, bbox_inches='tight', pad_inches=0.1)\n",
    "plt.show()"
   ]
  },
  {
   "cell_type": "code",
   "execution_count": 20,
   "metadata": {},
   "outputs": [
    {
     "data": {
      "text/plain": [
       "DatasetDict({\n",
       "    train: Dataset({\n",
       "        features: ['content', 'dog_whistle', 'type', 'ingroup', 'label'],\n",
       "        num_rows: 33472\n",
       "    })\n",
       "    test: Dataset({\n",
       "        features: ['content', 'dog_whistle', 'type', 'ingroup', 'label'],\n",
       "        num_rows: 3720\n",
       "    })\n",
       "})"
      ]
     },
     "execution_count": 20,
     "metadata": {},
     "output_type": "execute_result"
    }
   ],
   "source": [
    "ds_resampled = Dataset.from_pandas(df_resampled)\n",
    "ds_resampled = ds_resampled.train_test_split(test_size=0.1, shuffle=True, seed=42)\n",
    "ds_resampled"
   ]
  },
  {
   "cell_type": "markdown",
   "metadata": {},
   "source": [
    "### Upload dataset"
   ]
  },
  {
   "cell_type": "code",
   "execution_count": 21,
   "metadata": {},
   "outputs": [
    {
     "name": "stdout",
     "output_type": "stream",
     "text": [
      "DatasetDict({\n",
      "    train: Dataset({\n",
      "        features: ['label', 'content', 'dog_whistle', 'ingroup', 'type'],\n",
      "        num_rows: 6352333\n",
      "    })\n",
      "    test: Dataset({\n",
      "        features: ['label', 'content', 'dog_whistle', 'ingroup', 'type'],\n",
      "        num_rows: 705815\n",
      "    })\n",
      "    train_b: Dataset({\n",
      "        features: ['label', 'content', 'dog_whistle', 'ingroup', 'type'],\n",
      "        num_rows: 28900\n",
      "    })\n",
      "    test_b: Dataset({\n",
      "        features: ['label', 'content', 'dog_whistle', 'ingroup', 'type'],\n",
      "        num_rows: 3240\n",
      "    })\n",
      "    train_bh: Dataset({\n",
      "        features: ['label', 'content', 'dog_whistle', 'ingroup', 'type'],\n",
      "        num_rows: 27640\n",
      "    })\n",
      "    test_bh: Dataset({\n",
      "        features: ['label', 'content', 'dog_whistle', 'ingroup', 'type'],\n",
      "        num_rows: 3111\n",
      "    })\n",
      "    train_bhr: Dataset({\n",
      "        features: ['content', 'dog_whistle', 'type', 'ingroup', 'label'],\n",
      "        num_rows: 33472\n",
      "    })\n",
      "    test_bhr: Dataset({\n",
      "        features: ['content', 'dog_whistle', 'type', 'ingroup', 'label'],\n",
      "        num_rows: 3720\n",
      "    })\n",
      "})\n"
     ]
    }
   ],
   "source": [
    "ds_new = DatasetDict({\n",
    "    'train': ds['train'],\n",
    "    'test': ds['test'],\n",
    "    'train_b': ds['train_balanced'],\n",
    "    'test_b': ds['test_balanced'],\n",
    "    'train_bh': ds_hidden['train_hidden'],\n",
    "    'test_bh': ds_hidden['test_hidden'],\n",
    "    'train_bhr': ds_resampled['train'],\n",
    "    'test_bhr': ds_resampled['test'],\n",
    "})\n",
    "print(ds_new)"
   ]
  },
  {
   "cell_type": "code",
   "execution_count": 22,
   "metadata": {},
   "outputs": [
    {
     "data": {
      "text/html": [
       "<div>\n",
       "<style scoped>\n",
       "    .dataframe tbody tr th:only-of-type {\n",
       "        vertical-align: middle;\n",
       "    }\n",
       "\n",
       "    .dataframe tbody tr th {\n",
       "        vertical-align: top;\n",
       "    }\n",
       "\n",
       "    .dataframe thead th {\n",
       "        text-align: right;\n",
       "    }\n",
       "</style>\n",
       "<table border=\"1\" class=\"dataframe\">\n",
       "  <thead>\n",
       "    <tr style=\"text-align: right;\">\n",
       "      <th></th>\n",
       "      <th>content</th>\n",
       "      <th>dog_whistle</th>\n",
       "      <th>type</th>\n",
       "      <th>ingroup</th>\n",
       "      <th>label</th>\n",
       "    </tr>\n",
       "  </thead>\n",
       "  <tbody>\n",
       "    <tr>\n",
       "      <th>0</th>\n",
       "      <td>Lmfao. You're being downvoted for being a bull...</td>\n",
       "      <td>groomer</td>\n",
       "      <td>Informal</td>\n",
       "      <td>anti-LGBTQ</td>\n",
       "      <td>1</td>\n",
       "    </tr>\n",
       "    <tr>\n",
       "      <th>1</th>\n",
       "      <td>Now you gotta send me an mspaint drawing of a ...</td>\n",
       "      <td>send me</td>\n",
       "      <td>Informal</td>\n",
       "      <td>religious</td>\n",
       "      <td>0</td>\n",
       "    </tr>\n",
       "    <tr>\n",
       "      <th>2</th>\n",
       "      <td>Plus they act like Ivermectin isn't made by a ...</td>\n",
       "      <td>big pharma</td>\n",
       "      <td>Informal</td>\n",
       "      <td>anti-vax</td>\n",
       "      <td>1</td>\n",
       "    </tr>\n",
       "    <tr>\n",
       "      <th>3</th>\n",
       "      <td>i question why you're even around this subredd...</td>\n",
       "      <td>single</td>\n",
       "      <td>Informal</td>\n",
       "      <td>homophobic</td>\n",
       "      <td>0</td>\n",
       "    </tr>\n",
       "    <tr>\n",
       "      <th>4</th>\n",
       "      <td>The effectiveness of this amendment is in the ...</td>\n",
       "      <td>job creation</td>\n",
       "      <td>Formal</td>\n",
       "      <td>conservative</td>\n",
       "      <td>1</td>\n",
       "    </tr>\n",
       "    <tr>\n",
       "      <th>5</th>\n",
       "      <td>Right, but when you need their votes and suppo...</td>\n",
       "      <td>alarmist</td>\n",
       "      <td>Informal</td>\n",
       "      <td>climate change denier</td>\n",
       "      <td>1</td>\n",
       "    </tr>\n",
       "    <tr>\n",
       "      <th>6</th>\n",
       "      <td>I would hope that the first way that we would ...</td>\n",
       "      <td>balancing the budget</td>\n",
       "      <td>Formal</td>\n",
       "      <td>conservative</td>\n",
       "      <td>0</td>\n",
       "    </tr>\n",
       "    <tr>\n",
       "      <th>7</th>\n",
       "      <td>Karen Straughan was not exaggerating. I am sti...</td>\n",
       "      <td>working families</td>\n",
       "      <td>Informal</td>\n",
       "      <td>racist</td>\n",
       "      <td>0</td>\n",
       "    </tr>\n",
       "    <tr>\n",
       "      <th>8</th>\n",
       "      <td>It's a tool for them to destroy power entities...</td>\n",
       "      <td>Judeo-Christian</td>\n",
       "      <td>Informal</td>\n",
       "      <td>Islamophobic</td>\n",
       "      <td>1</td>\n",
       "    </tr>\n",
       "    <tr>\n",
       "      <th>9</th>\n",
       "      <td>Instead of worrying about Government or some a...</td>\n",
       "      <td>handout</td>\n",
       "      <td>Formal</td>\n",
       "      <td>racist</td>\n",
       "      <td>1</td>\n",
       "    </tr>\n",
       "  </tbody>\n",
       "</table>\n",
       "</div>"
      ],
      "text/plain": [
       "                                             content           dog_whistle  \\\n",
       "0  Lmfao. You're being downvoted for being a bull...               groomer   \n",
       "1  Now you gotta send me an mspaint drawing of a ...               send me   \n",
       "2  Plus they act like Ivermectin isn't made by a ...            big pharma   \n",
       "3  i question why you're even around this subredd...                single   \n",
       "4  The effectiveness of this amendment is in the ...          job creation   \n",
       "5  Right, but when you need their votes and suppo...              alarmist   \n",
       "6  I would hope that the first way that we would ...  balancing the budget   \n",
       "7  Karen Straughan was not exaggerating. I am sti...      working families   \n",
       "8  It's a tool for them to destroy power entities...       Judeo-Christian   \n",
       "9  Instead of worrying about Government or some a...               handout   \n",
       "\n",
       "       type                ingroup  label  \n",
       "0  Informal             anti-LGBTQ      1  \n",
       "1  Informal              religious      0  \n",
       "2  Informal               anti-vax      1  \n",
       "3  Informal             homophobic      0  \n",
       "4    Formal           conservative      1  \n",
       "5  Informal  climate change denier      1  \n",
       "6    Formal           conservative      0  \n",
       "7  Informal                 racist      0  \n",
       "8  Informal           Islamophobic      1  \n",
       "9    Formal                 racist      1  "
      ]
     },
     "execution_count": 22,
     "metadata": {},
     "output_type": "execute_result"
    }
   ],
   "source": [
    "ds_new['train_bhr'].to_pandas().head(10)"
   ]
  },
  {
   "cell_type": "code",
   "execution_count": 23,
   "metadata": {},
   "outputs": [
    {
     "name": "stderr",
     "output_type": "stream",
     "text": [
      "Pushing split train to the Hub.\n"
     ]
    },
    {
     "data": {
      "application/vnd.jupyter.widget-view+json": {
       "model_id": "c70f7622a4b5488aa6f81937bed7e8b8",
       "version_major": 2,
       "version_minor": 0
      },
      "text/plain": [
       "Pushing dataset shards to the dataset hub:   0%|          | 0/4 [00:00<?, ?it/s]"
      ]
     },
     "metadata": {},
     "output_type": "display_data"
    },
    {
     "data": {
      "application/vnd.jupyter.widget-view+json": {
       "model_id": "d26125cb212345b8b2d46c2fd8a43ebe",
       "version_major": 2,
       "version_minor": 0
      },
      "text/plain": [
       "Creating parquet from Arrow format:   0%|          | 0/1589 [00:00<?, ?ba/s]"
      ]
     },
     "metadata": {},
     "output_type": "display_data"
    },
    {
     "data": {
      "application/vnd.jupyter.widget-view+json": {
       "model_id": "13f103496bd3435292054cf2338a0e66",
       "version_major": 2,
       "version_minor": 0
      },
      "text/plain": [
       "Creating parquet from Arrow format:   0%|          | 0/1589 [00:00<?, ?ba/s]"
      ]
     },
     "metadata": {},
     "output_type": "display_data"
    },
    {
     "data": {
      "application/vnd.jupyter.widget-view+json": {
       "model_id": "5005ce70769347cd80a4382bf206c285",
       "version_major": 2,
       "version_minor": 0
      },
      "text/plain": [
       "Creating parquet from Arrow format:   0%|          | 0/1589 [00:00<?, ?ba/s]"
      ]
     },
     "metadata": {},
     "output_type": "display_data"
    },
    {
     "data": {
      "application/vnd.jupyter.widget-view+json": {
       "model_id": "445dac655f4d4d159db64012f41d81bf",
       "version_major": 2,
       "version_minor": 0
      },
      "text/plain": [
       "Creating parquet from Arrow format:   0%|          | 0/1589 [00:00<?, ?ba/s]"
      ]
     },
     "metadata": {},
     "output_type": "display_data"
    },
    {
     "data": {
      "application/vnd.jupyter.widget-view+json": {
       "model_id": "80409a771652492dbf0fa3520d759a33",
       "version_major": 2,
       "version_minor": 0
      },
      "text/plain": [
       "Deleting unused files from dataset repository:   0%|          | 0/4 [00:00<?, ?it/s]"
      ]
     },
     "metadata": {},
     "output_type": "display_data"
    },
    {
     "name": "stderr",
     "output_type": "stream",
     "text": [
      "Pushing split test to the Hub.\n"
     ]
    },
    {
     "data": {
      "application/vnd.jupyter.widget-view+json": {
       "model_id": "d6b0b4d27a2c425e92f9cb3a0a0a61aa",
       "version_major": 2,
       "version_minor": 0
      },
      "text/plain": [
       "Pushing dataset shards to the dataset hub:   0%|          | 0/1 [00:00<?, ?it/s]"
      ]
     },
     "metadata": {},
     "output_type": "display_data"
    },
    {
     "data": {
      "application/vnd.jupyter.widget-view+json": {
       "model_id": "fdc9cf7d0d27431aa651fdedde34e3f2",
       "version_major": 2,
       "version_minor": 0
      },
      "text/plain": [
       "Creating parquet from Arrow format:   0%|          | 0/706 [00:00<?, ?ba/s]"
      ]
     },
     "metadata": {},
     "output_type": "display_data"
    },
    {
     "data": {
      "application/vnd.jupyter.widget-view+json": {
       "model_id": "32d546656300445b82a321ec4e6fe9b3",
       "version_major": 2,
       "version_minor": 0
      },
      "text/plain": [
       "Deleting unused files from dataset repository:   0%|          | 0/1 [00:00<?, ?it/s]"
      ]
     },
     "metadata": {},
     "output_type": "display_data"
    },
    {
     "name": "stderr",
     "output_type": "stream",
     "text": [
      "Pushing split train_b to the Hub.\n"
     ]
    },
    {
     "data": {
      "application/vnd.jupyter.widget-view+json": {
       "model_id": "8e7d4f3bbf4b4e029dd8e35d6374da00",
       "version_major": 2,
       "version_minor": 0
      },
      "text/plain": [
       "Pushing dataset shards to the dataset hub:   0%|          | 0/1 [00:00<?, ?it/s]"
      ]
     },
     "metadata": {},
     "output_type": "display_data"
    },
    {
     "data": {
      "application/vnd.jupyter.widget-view+json": {
       "model_id": "ce7c4b8bddb84736affeee42acee8dbc",
       "version_major": 2,
       "version_minor": 0
      },
      "text/plain": [
       "Creating parquet from Arrow format:   0%|          | 0/29 [00:00<?, ?ba/s]"
      ]
     },
     "metadata": {},
     "output_type": "display_data"
    },
    {
     "data": {
      "application/vnd.jupyter.widget-view+json": {
       "model_id": "cb1ee907c30b481ead56a331b8288f0f",
       "version_major": 2,
       "version_minor": 0
      },
      "text/plain": [
       "Upload 1 LFS files:   0%|          | 0/1 [00:00<?, ?it/s]"
      ]
     },
     "metadata": {},
     "output_type": "display_data"
    },
    {
     "name": "stderr",
     "output_type": "stream",
     "text": [
      "Pushing split test_b to the Hub.\n"
     ]
    },
    {
     "data": {
      "application/vnd.jupyter.widget-view+json": {
       "model_id": "833c32287740422995e727ff62f84d3b",
       "version_major": 2,
       "version_minor": 0
      },
      "text/plain": [
       "Pushing dataset shards to the dataset hub:   0%|          | 0/1 [00:00<?, ?it/s]"
      ]
     },
     "metadata": {},
     "output_type": "display_data"
    },
    {
     "data": {
      "application/vnd.jupyter.widget-view+json": {
       "model_id": "91503c6312d34055b6bc10a1b31ecc62",
       "version_major": 2,
       "version_minor": 0
      },
      "text/plain": [
       "Creating parquet from Arrow format:   0%|          | 0/4 [00:00<?, ?ba/s]"
      ]
     },
     "metadata": {},
     "output_type": "display_data"
    },
    {
     "data": {
      "application/vnd.jupyter.widget-view+json": {
       "model_id": "75a66fcdcf3f47f9a5f4eaa69b4e31d6",
       "version_major": 2,
       "version_minor": 0
      },
      "text/plain": [
       "Upload 1 LFS files:   0%|          | 0/1 [00:00<?, ?it/s]"
      ]
     },
     "metadata": {},
     "output_type": "display_data"
    },
    {
     "name": "stderr",
     "output_type": "stream",
     "text": [
      "Pushing split train_bh to the Hub.\n"
     ]
    },
    {
     "data": {
      "application/vnd.jupyter.widget-view+json": {
       "model_id": "ecaf8df8b87c4908a7ca4c56e946a98b",
       "version_major": 2,
       "version_minor": 0
      },
      "text/plain": [
       "Pushing dataset shards to the dataset hub:   0%|          | 0/1 [00:00<?, ?it/s]"
      ]
     },
     "metadata": {},
     "output_type": "display_data"
    },
    {
     "data": {
      "application/vnd.jupyter.widget-view+json": {
       "model_id": "5dd4171550264a0ea6e18faa3ec4a74a",
       "version_major": 2,
       "version_minor": 0
      },
      "text/plain": [
       "Creating parquet from Arrow format:   0%|          | 0/28 [00:00<?, ?ba/s]"
      ]
     },
     "metadata": {},
     "output_type": "display_data"
    },
    {
     "data": {
      "application/vnd.jupyter.widget-view+json": {
       "model_id": "67276ef0587d44bf8040c0b472e61128",
       "version_major": 2,
       "version_minor": 0
      },
      "text/plain": [
       "Upload 1 LFS files:   0%|          | 0/1 [00:00<?, ?it/s]"
      ]
     },
     "metadata": {},
     "output_type": "display_data"
    },
    {
     "name": "stderr",
     "output_type": "stream",
     "text": [
      "Pushing split test_bh to the Hub.\n"
     ]
    },
    {
     "data": {
      "application/vnd.jupyter.widget-view+json": {
       "model_id": "8cd5534fca7a47518de0d4d8856c67f6",
       "version_major": 2,
       "version_minor": 0
      },
      "text/plain": [
       "Pushing dataset shards to the dataset hub:   0%|          | 0/1 [00:00<?, ?it/s]"
      ]
     },
     "metadata": {},
     "output_type": "display_data"
    },
    {
     "data": {
      "application/vnd.jupyter.widget-view+json": {
       "model_id": "1248e683c2634a549d176dbae3bcdb7f",
       "version_major": 2,
       "version_minor": 0
      },
      "text/plain": [
       "Creating parquet from Arrow format:   0%|          | 0/4 [00:00<?, ?ba/s]"
      ]
     },
     "metadata": {},
     "output_type": "display_data"
    },
    {
     "data": {
      "application/vnd.jupyter.widget-view+json": {
       "model_id": "9bcdcbf719f24f16a3d857add1c4ad90",
       "version_major": 2,
       "version_minor": 0
      },
      "text/plain": [
       "Upload 1 LFS files:   0%|          | 0/1 [00:00<?, ?it/s]"
      ]
     },
     "metadata": {},
     "output_type": "display_data"
    },
    {
     "name": "stderr",
     "output_type": "stream",
     "text": [
      "Pushing split train_bhr to the Hub.\n"
     ]
    },
    {
     "data": {
      "application/vnd.jupyter.widget-view+json": {
       "model_id": "75ef0f3a018e4003a769e8ba39dc559b",
       "version_major": 2,
       "version_minor": 0
      },
      "text/plain": [
       "Pushing dataset shards to the dataset hub:   0%|          | 0/1 [00:00<?, ?it/s]"
      ]
     },
     "metadata": {},
     "output_type": "display_data"
    },
    {
     "data": {
      "application/vnd.jupyter.widget-view+json": {
       "model_id": "a9379835e5f44dcd8aef6a86a1f2bf8a",
       "version_major": 2,
       "version_minor": 0
      },
      "text/plain": [
       "Creating parquet from Arrow format:   0%|          | 0/34 [00:00<?, ?ba/s]"
      ]
     },
     "metadata": {},
     "output_type": "display_data"
    },
    {
     "data": {
      "application/vnd.jupyter.widget-view+json": {
       "model_id": "bda64b72492e4e2caf44481cc989dae4",
       "version_major": 2,
       "version_minor": 0
      },
      "text/plain": [
       "Upload 1 LFS files:   0%|          | 0/1 [00:00<?, ?it/s]"
      ]
     },
     "metadata": {},
     "output_type": "display_data"
    },
    {
     "name": "stderr",
     "output_type": "stream",
     "text": [
      "Pushing split test_bhr to the Hub.\n"
     ]
    },
    {
     "data": {
      "application/vnd.jupyter.widget-view+json": {
       "model_id": "45b16c998d044bee85d413b1286377da",
       "version_major": 2,
       "version_minor": 0
      },
      "text/plain": [
       "Pushing dataset shards to the dataset hub:   0%|          | 0/1 [00:00<?, ?it/s]"
      ]
     },
     "metadata": {},
     "output_type": "display_data"
    },
    {
     "data": {
      "application/vnd.jupyter.widget-view+json": {
       "model_id": "6688163efa304e679c7df77a7d772247",
       "version_major": 2,
       "version_minor": 0
      },
      "text/plain": [
       "Creating parquet from Arrow format:   0%|          | 0/4 [00:00<?, ?ba/s]"
      ]
     },
     "metadata": {},
     "output_type": "display_data"
    },
    {
     "data": {
      "application/vnd.jupyter.widget-view+json": {
       "model_id": "13f217d1b4584fbf9061963a84b0ab28",
       "version_major": 2,
       "version_minor": 0
      },
      "text/plain": [
       "Upload 1 LFS files:   0%|          | 0/1 [00:00<?, ?it/s]"
      ]
     },
     "metadata": {},
     "output_type": "display_data"
    }
   ],
   "source": [
    "ds_new.push_to_hub(\"AstroAure/dogwhistle_dataset\")"
   ]
  },
  {
   "cell_type": "markdown",
   "metadata": {},
   "source": [
    "## Hidden test set"
   ]
  },
  {
   "cell_type": "code",
   "execution_count": 2,
   "metadata": {},
   "outputs": [
    {
     "name": "stderr",
     "output_type": "stream",
     "text": [
      "Found cached dataset parquet (C:/Users/aurel/.cache/huggingface/datasets/AstroAure___parquet/AstroAure--dogwhistle_dataset-6d764eab07d1c308/0.0.0/2a3b91fbd88a2c90d1dbbb32b460cf621d31bd5b05b934492fdef7d8d6f236ec)\n"
     ]
    },
    {
     "data": {
      "application/vnd.jupyter.widget-view+json": {
       "model_id": "01f91eda33d84a279e64c8e59e7cdbc8",
       "version_major": 2,
       "version_minor": 0
      },
      "text/plain": [
       "  0%|          | 0/9 [00:00<?, ?it/s]"
      ]
     },
     "metadata": {},
     "output_type": "display_data"
    }
   ],
   "source": [
    "ds = load_dataset(\"AstroAure/dogwhistle_dataset\")"
   ]
  },
  {
   "cell_type": "code",
   "execution_count": 3,
   "metadata": {},
   "outputs": [
    {
     "data": {
      "text/plain": [
       "DatasetDict({\n",
       "    train: Dataset({\n",
       "        features: ['label', 'content', 'dog_whistle', 'ingroup', 'type'],\n",
       "        num_rows: 6352333\n",
       "    })\n",
       "    test: Dataset({\n",
       "        features: ['label', 'content', 'dog_whistle', 'ingroup', 'type'],\n",
       "        num_rows: 705815\n",
       "    })\n",
       "    test_b: Dataset({\n",
       "        features: ['label', 'content', 'dog_whistle', 'ingroup', 'type'],\n",
       "        num_rows: 3240\n",
       "    })\n",
       "    test_bh: Dataset({\n",
       "        features: ['label', 'content', 'dog_whistle', 'ingroup', 'type'],\n",
       "        num_rows: 3111\n",
       "    })\n",
       "    test_bhr: Dataset({\n",
       "        features: ['label', 'content', 'dog_whistle', 'ingroup', 'type'],\n",
       "        num_rows: 3720\n",
       "    })\n",
       "    test_hidden: Dataset({\n",
       "        features: ['label', 'content', 'dog_whistle', 'ingroup', 'type'],\n",
       "        num_rows: 889\n",
       "    })\n",
       "    train_b: Dataset({\n",
       "        features: ['label', 'content', 'dog_whistle', 'ingroup', 'type'],\n",
       "        num_rows: 28900\n",
       "    })\n",
       "    train_bh: Dataset({\n",
       "        features: ['label', 'content', 'dog_whistle', 'ingroup', 'type'],\n",
       "        num_rows: 27640\n",
       "    })\n",
       "    train_bhr: Dataset({\n",
       "        features: ['label', 'content', 'dog_whistle', 'ingroup', 'type'],\n",
       "        num_rows: 33472\n",
       "    })\n",
       "})"
      ]
     },
     "execution_count": 3,
     "metadata": {},
     "output_type": "execute_result"
    }
   ],
   "source": [
    "ds"
   ]
  },
  {
   "cell_type": "code",
   "execution_count": 7,
   "metadata": {},
   "outputs": [],
   "source": [
    "df = ds['train_b'].to_pandas()"
   ]
  },
  {
   "cell_type": "code",
   "execution_count": 8,
   "metadata": {},
   "outputs": [
    {
     "data": {
      "text/plain": [
       "889"
      ]
     },
     "execution_count": 8,
     "metadata": {},
     "output_type": "execute_result"
    }
   ],
   "source": [
    "hidden_dogwhistle = ['send me','illegal immigrant','Trilateral Commission','bugman','property rights','Judeo-Christian values','gender abolitionist','young buck','cuckservatives','deadbeat','tax cut','disloyalty','international banks','erasure of women','gender abolitionists','superpredators','bix nood','agender','biological realist','hardworking American','oy vey','wombyn','shekel','colorblind','#alllivesmatter','natal men','physical removal','the Fed' \"don't see color\" 'personal responsibility','string-pullers','biological men','Judeo-Christian','41']\n",
    "\n",
    "df_hidden = df[df['dog_whistle'].isin(hidden_dogwhistle)]\n",
    "df_hidden = df_hidden.sample(frac=1).reset_index(drop=True)\n",
    "len(df_hidden)"
   ]
  },
  {
   "cell_type": "code",
   "execution_count": 9,
   "metadata": {},
   "outputs": [
    {
     "data": {
      "image/png": "[encoded data removed]",
      "text/plain": [
       "<Figure size 600x600 with 1 Axes>"
      ]
     },
     "metadata": {},
     "output_type": "display_data"
    }
   ],
   "source": [
    "fig, ax = plt.subplots(figsize=(6,6))\n",
    "n, bins, patches = ax.hist(df_hidden['label'], range=(-0.5,1.5), bins=2, alpha=0.5, rwidth=0.5)\n",
    "patches[0].set_facecolor('red')\n",
    "patches[1].set_facecolor('blue')\n",
    "ax.set_xticks([0, 1], labels=['Not Dog Whistle', 'Dog Whistle'])\n",
    "ax.set_xlim(-0.5, 1.5)\n",
    "# ax.set_yscale('log')\n",
    "ax.set_ylabel('Count')\n",
    "plt.show()"
   ]
  },
  {
   "cell_type": "code",
   "execution_count": 12,
   "metadata": {},
   "outputs": [
    {
     "name": "stderr",
     "output_type": "stream",
     "text": [
      "Pushing split test to the Hub.\n"
     ]
    },
    {
     "data": {
      "application/vnd.jupyter.widget-view+json": {
       "model_id": "d2cf7f235cf644dfa35c61697ba28e51",
       "version_major": 2,
       "version_minor": 0
      },
      "text/plain": [
       "Pushing dataset shards to the dataset hub:   0%|          | 0/1 [00:00<?, ?it/s]"
      ]
     },
     "metadata": {},
     "output_type": "display_data"
    },
    {
     "data": {
      "application/vnd.jupyter.widget-view+json": {
       "model_id": "bb64b0696f5249199c33759d100ce2eb",
       "version_major": 2,
       "version_minor": 0
      },
      "text/plain": [
       "Creating parquet from Arrow format:   0%|          | 0/706 [00:00<?, ?ba/s]"
      ]
     },
     "metadata": {},
     "output_type": "display_data"
    },
    {
     "data": {
      "application/vnd.jupyter.widget-view+json": {
       "model_id": "4e631653cb324d839364110d4fedc580",
       "version_major": 2,
       "version_minor": 0
      },
      "text/plain": [
       "Deleting unused files from dataset repository:   0%|          | 0/1 [00:00<?, ?it/s]"
      ]
     },
     "metadata": {},
     "output_type": "display_data"
    },
    {
     "name": "stderr",
     "output_type": "stream",
     "text": [
      "Pushing split train to the Hub.\n"
     ]
    },
    {
     "data": {
      "application/vnd.jupyter.widget-view+json": {
       "model_id": "9c841f10733b4b518d50129e1013cc66",
       "version_major": 2,
       "version_minor": 0
      },
      "text/plain": [
       "Pushing dataset shards to the dataset hub:   0%|          | 0/4 [00:00<?, ?it/s]"
      ]
     },
     "metadata": {},
     "output_type": "display_data"
    },
    {
     "data": {
      "application/vnd.jupyter.widget-view+json": {
       "model_id": "61cb439f359445fbb4417c22b17e0164",
       "version_major": 2,
       "version_minor": 0
      },
      "text/plain": [
       "Creating parquet from Arrow format:   0%|          | 0/1589 [00:00<?, ?ba/s]"
      ]
     },
     "metadata": {},
     "output_type": "display_data"
    },
    {
     "data": {
      "application/vnd.jupyter.widget-view+json": {
       "model_id": "658726d5ccb04b478cb450c2c81e6f98",
       "version_major": 2,
       "version_minor": 0
      },
      "text/plain": [
       "Creating parquet from Arrow format:   0%|          | 0/1589 [00:00<?, ?ba/s]"
      ]
     },
     "metadata": {},
     "output_type": "display_data"
    },
    {
     "data": {
      "application/vnd.jupyter.widget-view+json": {
       "model_id": "64fae29ea92d46e191ef5fd6c0e0a01f",
       "version_major": 2,
       "version_minor": 0
      },
      "text/plain": [
       "Creating parquet from Arrow format:   0%|          | 0/1589 [00:00<?, ?ba/s]"
      ]
     },
     "metadata": {},
     "output_type": "display_data"
    },
    {
     "data": {
      "application/vnd.jupyter.widget-view+json": {
       "model_id": "b931cf9dafb044cfa8f16fbd4685bad9",
       "version_major": 2,
       "version_minor": 0
      },
      "text/plain": [
       "Creating parquet from Arrow format:   0%|          | 0/1589 [00:00<?, ?ba/s]"
      ]
     },
     "metadata": {},
     "output_type": "display_data"
    },
    {
     "data": {
      "application/vnd.jupyter.widget-view+json": {
       "model_id": "6b48505d2b6944ea90320353e823a155",
       "version_major": 2,
       "version_minor": 0
      },
      "text/plain": [
       "Deleting unused files from dataset repository:   0%|          | 0/4 [00:00<?, ?it/s]"
      ]
     },
     "metadata": {},
     "output_type": "display_data"
    },
    {
     "name": "stderr",
     "output_type": "stream",
     "text": [
      "Pushing split train_b to the Hub.\n"
     ]
    },
    {
     "data": {
      "application/vnd.jupyter.widget-view+json": {
       "model_id": "3ddc94063564409295dbcbdbf2062293",
       "version_major": 2,
       "version_minor": 0
      },
      "text/plain": [
       "Pushing dataset shards to the dataset hub:   0%|          | 0/1 [00:00<?, ?it/s]"
      ]
     },
     "metadata": {},
     "output_type": "display_data"
    },
    {
     "data": {
      "application/vnd.jupyter.widget-view+json": {
       "model_id": "98fd1616f7bd483a9f5aa2db8082b7a8",
       "version_major": 2,
       "version_minor": 0
      },
      "text/plain": [
       "Creating parquet from Arrow format:   0%|          | 0/29 [00:00<?, ?ba/s]"
      ]
     },
     "metadata": {},
     "output_type": "display_data"
    },
    {
     "data": {
      "application/vnd.jupyter.widget-view+json": {
       "model_id": "3c79e3f1915e4463b61932cf1661a646",
       "version_major": 2,
       "version_minor": 0
      },
      "text/plain": [
       "Deleting unused files from dataset repository:   0%|          | 0/1 [00:00<?, ?it/s]"
      ]
     },
     "metadata": {},
     "output_type": "display_data"
    },
    {
     "name": "stderr",
     "output_type": "stream",
     "text": [
      "Pushing split test_b to the Hub.\n"
     ]
    },
    {
     "data": {
      "application/vnd.jupyter.widget-view+json": {
       "model_id": "5d8f73d9f34d42eb8ea20dbcb9c17dd9",
       "version_major": 2,
       "version_minor": 0
      },
      "text/plain": [
       "Pushing dataset shards to the dataset hub:   0%|          | 0/1 [00:00<?, ?it/s]"
      ]
     },
     "metadata": {},
     "output_type": "display_data"
    },
    {
     "data": {
      "application/vnd.jupyter.widget-view+json": {
       "model_id": "ff9b562ada4b4e7f8ee03d1197249be8",
       "version_major": 2,
       "version_minor": 0
      },
      "text/plain": [
       "Creating parquet from Arrow format:   0%|          | 0/4 [00:00<?, ?ba/s]"
      ]
     },
     "metadata": {},
     "output_type": "display_data"
    },
    {
     "data": {
      "application/vnd.jupyter.widget-view+json": {
       "model_id": "a27b954e87564b1ab2c53248ecb01394",
       "version_major": 2,
       "version_minor": 0
      },
      "text/plain": [
       "Deleting unused files from dataset repository:   0%|          | 0/1 [00:00<?, ?it/s]"
      ]
     },
     "metadata": {},
     "output_type": "display_data"
    },
    {
     "name": "stderr",
     "output_type": "stream",
     "text": [
      "Pushing split train_bh to the Hub.\n"
     ]
    },
    {
     "data": {
      "application/vnd.jupyter.widget-view+json": {
       "model_id": "42fefe17640444e0ba2d40de6be28c14",
       "version_major": 2,
       "version_minor": 0
      },
      "text/plain": [
       "Pushing dataset shards to the dataset hub:   0%|          | 0/1 [00:00<?, ?it/s]"
      ]
     },
     "metadata": {},
     "output_type": "display_data"
    },
    {
     "data": {
      "application/vnd.jupyter.widget-view+json": {
       "model_id": "d1455e1696444e20a89ba0a9ed96c8d5",
       "version_major": 2,
       "version_minor": 0
      },
      "text/plain": [
       "Creating parquet from Arrow format:   0%|          | 0/28 [00:00<?, ?ba/s]"
      ]
     },
     "metadata": {},
     "output_type": "display_data"
    },
    {
     "data": {
      "application/vnd.jupyter.widget-view+json": {
       "model_id": "eb4b729351874ad797bc1fb410be59e3",
       "version_major": 2,
       "version_minor": 0
      },
      "text/plain": [
       "Deleting unused files from dataset repository:   0%|          | 0/1 [00:00<?, ?it/s]"
      ]
     },
     "metadata": {},
     "output_type": "display_data"
    },
    {
     "name": "stderr",
     "output_type": "stream",
     "text": [
      "Pushing split test_bh to the Hub.\n"
     ]
    },
    {
     "data": {
      "application/vnd.jupyter.widget-view+json": {
       "model_id": "68ff9a1a57c4434eb2315d6bd55b0a91",
       "version_major": 2,
       "version_minor": 0
      },
      "text/plain": [
       "Pushing dataset shards to the dataset hub:   0%|          | 0/1 [00:00<?, ?it/s]"
      ]
     },
     "metadata": {},
     "output_type": "display_data"
    },
    {
     "data": {
      "application/vnd.jupyter.widget-view+json": {
       "model_id": "9b0f6f11c62b4e02b3e8fe042d7bb4a4",
       "version_major": 2,
       "version_minor": 0
      },
      "text/plain": [
       "Creating parquet from Arrow format:   0%|          | 0/4 [00:00<?, ?ba/s]"
      ]
     },
     "metadata": {},
     "output_type": "display_data"
    },
    {
     "data": {
      "application/vnd.jupyter.widget-view+json": {
       "model_id": "51c0b6e4f7b54e389e9142f4217826c2",
       "version_major": 2,
       "version_minor": 0
      },
      "text/plain": [
       "Deleting unused files from dataset repository:   0%|          | 0/1 [00:00<?, ?it/s]"
      ]
     },
     "metadata": {},
     "output_type": "display_data"
    },
    {
     "name": "stderr",
     "output_type": "stream",
     "text": [
      "Pushing split train_bhr to the Hub.\n"
     ]
    },
    {
     "data": {
      "application/vnd.jupyter.widget-view+json": {
       "model_id": "27ba71e43b4a40f7a39fe5f282c45b6b",
       "version_major": 2,
       "version_minor": 0
      },
      "text/plain": [
       "Pushing dataset shards to the dataset hub:   0%|          | 0/1 [00:00<?, ?it/s]"
      ]
     },
     "metadata": {},
     "output_type": "display_data"
    },
    {
     "data": {
      "application/vnd.jupyter.widget-view+json": {
       "model_id": "3a42cbe4662b4cf088477db277617f59",
       "version_major": 2,
       "version_minor": 0
      },
      "text/plain": [
       "Creating parquet from Arrow format:   0%|          | 0/34 [00:00<?, ?ba/s]"
      ]
     },
     "metadata": {},
     "output_type": "display_data"
    },
    {
     "data": {
      "application/vnd.jupyter.widget-view+json": {
       "model_id": "f335c4fe655747a986eba82b74d0b1bb",
       "version_major": 2,
       "version_minor": 0
      },
      "text/plain": [
       "Upload 1 LFS files:   0%|          | 0/1 [00:00<?, ?it/s]"
      ]
     },
     "metadata": {},
     "output_type": "display_data"
    },
    {
     "data": {
      "application/vnd.jupyter.widget-view+json": {
       "model_id": "dad0a80944094e48998bc60e86e8465e",
       "version_major": 2,
       "version_minor": 0
      },
      "text/plain": [
       "Deleting unused files from dataset repository:   0%|          | 0/1 [00:00<?, ?it/s]"
      ]
     },
     "metadata": {},
     "output_type": "display_data"
    },
    {
     "name": "stderr",
     "output_type": "stream",
     "text": [
      "Pushing split test_bhr to the Hub.\n"
     ]
    },
    {
     "data": {
      "application/vnd.jupyter.widget-view+json": {
       "model_id": "2a9b83b8d40f4076b560ba22f689a1ce",
       "version_major": 2,
       "version_minor": 0
      },
      "text/plain": [
       "Pushing dataset shards to the dataset hub:   0%|          | 0/1 [00:00<?, ?it/s]"
      ]
     },
     "metadata": {},
     "output_type": "display_data"
    },
    {
     "data": {
      "application/vnd.jupyter.widget-view+json": {
       "model_id": "3348fe8bbeff4d6d91c732ec64bad505",
       "version_major": 2,
       "version_minor": 0
      },
      "text/plain": [
       "Creating parquet from Arrow format:   0%|          | 0/4 [00:00<?, ?ba/s]"
      ]
     },
     "metadata": {},
     "output_type": "display_data"
    },
    {
     "data": {
      "application/vnd.jupyter.widget-view+json": {
       "model_id": "d819d85cff3543c7aa3d0b8ec82b30b8",
       "version_major": 2,
       "version_minor": 0
      },
      "text/plain": [
       "Upload 1 LFS files:   0%|          | 0/1 [00:00<?, ?it/s]"
      ]
     },
     "metadata": {},
     "output_type": "display_data"
    },
    {
     "data": {
      "application/vnd.jupyter.widget-view+json": {
       "model_id": "d5c5de9fdd2a47468bb5e2a3d5067416",
       "version_major": 2,
       "version_minor": 0
      },
      "text/plain": [
       "Deleting unused files from dataset repository:   0%|          | 0/1 [00:00<?, ?it/s]"
      ]
     },
     "metadata": {},
     "output_type": "display_data"
    },
    {
     "name": "stderr",
     "output_type": "stream",
     "text": [
      "Pushing split test_hidden to the Hub.\n"
     ]
    },
    {
     "data": {
      "application/vnd.jupyter.widget-view+json": {
       "model_id": "a9aa201d709d43668d1a3f0c3791a297",
       "version_major": 2,
       "version_minor": 0
      },
      "text/plain": [
       "Pushing dataset shards to the dataset hub:   0%|          | 0/1 [00:00<?, ?it/s]"
      ]
     },
     "metadata": {},
     "output_type": "display_data"
    },
    {
     "data": {
      "application/vnd.jupyter.widget-view+json": {
       "model_id": "e631cc734f4d406f9ff9c67861a95039",
       "version_major": 2,
       "version_minor": 0
      },
      "text/plain": [
       "Creating parquet from Arrow format:   0%|          | 0/1 [00:00<?, ?ba/s]"
      ]
     },
     "metadata": {},
     "output_type": "display_data"
    },
    {
     "data": {
      "application/vnd.jupyter.widget-view+json": {
       "model_id": "9e017f162b8f4a80899f00e76b4420b2",
       "version_major": 2,
       "version_minor": 0
      },
      "text/plain": [
       "Upload 1 LFS files:   0%|          | 0/1 [00:00<?, ?it/s]"
      ]
     },
     "metadata": {},
     "output_type": "display_data"
    }
   ],
   "source": [
    "ds_hidden = DatasetDict({\n",
    "    'test': ds['test'],\n",
    "    'train': ds['train'],\n",
    "    'train_b': ds['train_b'],\n",
    "    'test_b': ds['test_b'],\n",
    "    'train_bh': ds['train_bh'],\n",
    "    'test_bh': ds['test_bh'],\n",
    "    'train_bhr': ds['train_bhr'],\n",
    "    'test_bhr': ds['test_bhr'],\n",
    "    'test_hidden': Dataset.from_pandas(df_hidden),\n",
    "})\n",
    "ds_hidden.push_to_hub(\"AstroAure/dogwhistle_dataset\")"
   ]
  },
  {
   "cell_type": "code",
   "execution_count": null,
   "metadata": {},
   "outputs": [],
   "source": []
  }
 ],
 "metadata": {
  "kernelspec": {
   "display_name": "base",
   "language": "python",
   "name": "python3"
  },
  "language_info": {
   "codemirror_mode": {
    "name": "ipython",
    "version": 3
   },
   "file_extension": ".py",
   "mimetype": "text/x-python",
   "name": "python",
   "nbconvert_exporter": "python",
   "pygments_lexer": "ipython3",
   "version": "3.11.5"
  }
 },
 "nbformat": 4,
 "nbformat_minor": 2
}
