{
 "cells": [
  {
   "cell_type": "code",
   "execution_count": null,
   "id": "f581e2e2-a2e4-4397-b671-6264fb72d06b",
   "metadata": {},
   "outputs": [
    {
     "ename": "ModuleNotFoundError",
     "evalue": "No module named 'transformers'",
     "output_type": "error",
     "traceback": [
      "\u001b[0;31m---------------------------------------------------------------------------\u001b[0m",
      "\u001b[0;31mModuleNotFoundError\u001b[0m                       Traceback (most recent call last)",
      "Cell \u001b[0;32mIn[1], line 1\u001b[0m\n\u001b[0;32m----> 1\u001b[0m \u001b[38;5;28;01mfrom\u001b[39;00m \u001b[38;5;21;01mtransformers\u001b[39;00m \u001b[38;5;28;01mimport\u001b[39;00m (\n\u001b[1;32m      2\u001b[0m     BertTokenizer, BertForSequenceClassification, BertForMaskedLM,\n\u001b[1;32m      3\u001b[0m     RobertaTokenizer, RobertaForSequenceClassification, RobertaForMaskedLM\n\u001b[1;32m      4\u001b[0m )\n\u001b[1;32m      5\u001b[0m \u001b[38;5;28;01mfrom\u001b[39;00m \u001b[38;5;21;01mbertviz\u001b[39;00m \u001b[38;5;28;01mimport\u001b[39;00m head_view\n\u001b[1;32m      6\u001b[0m \u001b[38;5;28;01mfrom\u001b[39;00m \u001b[38;5;21;01mIPython\u001b[39;00m\u001b[38;5;21;01m.\u001b[39;00m\u001b[38;5;21;01mdisplay\u001b[39;00m \u001b[38;5;28;01mimport\u001b[39;00m display\n",
      "\u001b[0;31mModuleNotFoundError\u001b[0m: No module named 'transformers'"
     ]
    }
   ],
   "source": [
    "from transformers import (\n",
    "    BertTokenizer, BertForSequenceClassification, BertForMaskedLM,\n",
    "    RobertaTokenizer, RobertaForSequenceClassification, RobertaForMaskedLM\n",
    ")\n",
    "from bertviz import head_view\n",
    "from IPython.display import display\n",
    "import random\n",
    "import torch\n",
    "from pathlib import Path\n",
    "from datasets import load_dataset\n",
    "from src.load_data import load_model\n"
   ]
  },
  {
   "cell_type": "code",
   "execution_count": 2,
   "id": "cf82d3d1-f22e-4047-b8c5-72d015f16647",
   "metadata": {},
   "outputs": [],
   "source": [
    "model_path = \"/pvc/home/DL_hate_speech/models\"\n",
    "model_name = \"bert-base-uncased\"\n",
    "task = \"clf2\"\n",
    "num_samples = 1\n"
   ]
  },
  {
   "cell_type": "code",
   "execution_count": 3,
   "id": "dce038d5-e6f8-49c4-b6d3-57898f91a6c6",
   "metadata": {},
   "outputs": [],
   "source": [
    "def load_test_sentence(tokenizer, task):\n",
    "    dataset = load_dataset('AstroAure/dogwhistle_dataset')\n",
    "    split = \"test_bhr\" \n",
    "    sample = random.choice(dataset[split])\n",
    "    return sample[\"text\"] if \"text\" in sample else sample[\"content\"]\n",
    "\n",
    "def visualize_attention(model, tokenizer, text, is_mlm):\n",
    "    inputs = tokenizer.encode_plus(text, return_tensors='pt', return_attention_mask=True)\n",
    "    input_ids = inputs['input_ids']\n",
    "    with torch.no_grad():\n",
    "        outputs = model(**inputs, output_attentions=True)\n",
    "    tokens = tokenizer.convert_ids_to_tokens(input_ids[0])\n",
    "    attention = outputs.attentions\n",
    "    display(head_view(attention, tokens))\n",
    "    print(\"\\nSentence:\\n\", text)\n"
   ]
  },
  {
   "cell_type": "code",
   "execution_count": 4,
   "id": "84e1553c-fbdb-4cf5-91b5-c84462872c72",
   "metadata": {},
   "outputs": [
    {
     "ename": "NameError",
     "evalue": "name 'load_model' is not defined",
     "output_type": "error",
     "traceback": [
      "\u001b[0;31m---------------------------------------------------------------------------\u001b[0m",
      "\u001b[0;31mNameError\u001b[0m                                 Traceback (most recent call last)",
      "Cell \u001b[0;32mIn[4], line 21\u001b[0m\n\u001b[1;32m     18\u001b[0m     is_mlm \u001b[38;5;241m=\u001b[39m \u001b[38;5;28;01mFalse\u001b[39;00m\n\u001b[1;32m     20\u001b[0m \u001b[38;5;28;01melif\u001b[39;00m task \u001b[38;5;241m==\u001b[39m \u001b[38;5;124m\"\u001b[39m\u001b[38;5;124mclf2\u001b[39m\u001b[38;5;124m\"\u001b[39m:\n\u001b[0;32m---> 21\u001b[0m     model, tokenizer \u001b[38;5;241m=\u001b[39m \u001b[43mload_model\u001b[49m(\n\u001b[1;32m     22\u001b[0m         model_name\u001b[38;5;241m=\u001b[39mmodel_name,\n\u001b[1;32m     23\u001b[0m         mlm\u001b[38;5;241m=\u001b[39m\u001b[38;5;28;01mFalse\u001b[39;00m,\n\u001b[1;32m     24\u001b[0m         MODEL_DIR\u001b[38;5;241m=\u001b[39m\u001b[38;5;28mstr\u001b[39m(Path(model_path) \u001b[38;5;241m/\u001b[39m \u001b[38;5;124mf\u001b[39m\u001b[38;5;124m\"\u001b[39m\u001b[38;5;124mfine_tuned_classifier_2_\u001b[39m\u001b[38;5;132;01m{\u001b[39;00mmodel_name\u001b[38;5;132;01m}\u001b[39;00m\u001b[38;5;124m\"\u001b[39m),\n\u001b[1;32m     25\u001b[0m         num_classes\u001b[38;5;241m=\u001b[39m\u001b[38;5;241m17\u001b[39m  \u001b[38;5;66;03m# update if different\u001b[39;00m\n\u001b[1;32m     26\u001b[0m     )\n\u001b[1;32m     27\u001b[0m     model\u001b[38;5;241m.\u001b[39meval()\n\u001b[1;32m     28\u001b[0m     is_mlm \u001b[38;5;241m=\u001b[39m \u001b[38;5;28;01mFalse\u001b[39;00m\n",
      "\u001b[0;31mNameError\u001b[0m: name 'load_model' is not defined"
     ]
    }
   ],
   "source": [
    "if task == \"mlm\":\n",
    "    if \"roberta\" in model_name:\n",
    "        model = RobertaForMaskedLM.from_pretrained(Path(model_path) / f\"fine_tuned_mlm_{model_name}_model\", output_attentions=True)\n",
    "        tokenizer = RobertaTokenizer.from_pretrained(Path(model_path) / f\"fine_tuned_mlm_{model_name}_tokenizer\")\n",
    "    else:\n",
    "        model = BertForMaskedLM.from_pretrained(Path(model_path) / f\"fine_tuned_mlm_{model_name}_model\", output_attentions=True)\n",
    "        tokenizer = BertTokenizer.from_pretrained(Path(model_path) / f\"fine_tuned_mlm_{model_name}_tokenizer\")\n",
    "    is_mlm = True\n",
    "\n",
    "elif task == \"clf1\":\n",
    "    model, tokenizer = load_model(\n",
    "        model_name=model_name,\n",
    "        mlm=False,\n",
    "        MODEL_DIR=str(Path(model_path) / f\"fine_tuned_classifier_1_{model_name}\"),\n",
    "        num_classes=2\n",
    "    )\n",
    "    model.eval()\n",
    "    is_mlm = False\n",
    "\n",
    "elif task == \"clf2\":\n",
    "    model, tokenizer = load_model(\n",
    "        model_name=model_name,\n",
    "        mlm=False,\n",
    "        MODEL_DIR=str(Path(model_path) / f\"fine_tuned_classifier_2_{model_name}\"),\n",
    "        num_classes=17  # update if different\n",
    "    )\n",
    "    model.eval()\n",
    "    is_mlm = False"
   ]
  },
  {
   "cell_type": "code",
   "execution_count": null,
   "id": "7873da10-b0f2-44e9-9e60-8c06ddc5409d",
   "metadata": {},
   "outputs": [],
   "source": [
    "for i in range(num_samples):\n",
    "    text = load_test_sentence(tokenizer, task)\n",
    "    visualize_attention(model, tokenizer, text, is_mlm)"
   ]
  }
 ],
 "metadata": {
  "kernelspec": {
   "display_name": "Python 3 (ipykernel)",
   "language": "python",
   "name": "python3"
  },
  "language_info": {
   "codemirror_mode": {
    "name": "ipython",
    "version": 3
   },
   "file_extension": ".py",
   "mimetype": "text/x-python",
   "name": "python",
   "nbconvert_exporter": "python",
   "pygments_lexer": "ipython3",
   "version": "3.10.12"
  }
 },
 "nbformat": 4,
 "nbformat_minor": 5
}
